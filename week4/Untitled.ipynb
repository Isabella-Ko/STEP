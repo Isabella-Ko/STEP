{
 "cells": [
  {
   "cell_type": "markdown",
   "metadata": {},
   "source": [
    "# Preprocessing"
   ]
  },
  {
   "cell_type": "code",
   "execution_count": 2,
   "metadata": {},
   "outputs": [
    {
     "name": "stdout",
     "output_type": "stream",
     "text": [
      "[['1', '29'], ['1', '31'], ['1', '10'], ['1', '18'], ['1', '26'], ['1', '40'], ['1', '3'], ['2', '15'], ['2', '39'], ['2', '14'], ['3', '29'], ['3', '49'], ['3', '31'], ['3', '10'], ['3', '1'], ['3', '18'], ['3', '26'], ['3', '40'], ['4', '29'], ['4', '53'], ['4', '35'], ['4', '38'], ['4', '20'], ['5', '44'], ['5', '36'], ['5', '19'], ['5', '33'], ['7', '26'], ['7', '17'], ['7', '12'], ['7', '52'], ['7', '9'], ['8', '29'], ['8', '49'], ['8', '24'], ['8', '25'], ['8', '26'], ['8', '46'], ['8', '3'], ['8', '22'], ['8', '28'], ['9', '7'], ['9', '26'], ['9', '17'], ['9', '12'], ['9', '52'], ['10', '29'], ['10', '49'], ['10', '1'], ['10', '55'], ['10', '18'], ['10', '26'], ['10', '40'], ['10', '3'], ['10', '21'], ['11', '49'], ['12', '26'], ['12', '17'], ['12', '3'], ['12', '52'], ['12', '9'], ['14', '29'], ['14', '15'], ['14', '2'], ['14', '26'], ['14', '40'], ['14', '39'], ['15', '2'], ['15', '1'], ['15', '26'], ['15', '40'], ['15', '3'], ['15', '39'], ['15', '14'], ['16', '31'], ['16', '23'], ['16', '26'], ['17', '7'], ['17', '44'], ['17', '26'], ['17', '52'], ['18', '29'], ['18', '10'], ['18', '1'], ['18', '40'], ['18', '3'], ['19', '44'], ['19', '34'], ['19', '5'], ['20', '29'], ['20', '1'], ['20', '4'], ['20', '45'], ['20', '35'], ['20', '38'], ['21', '49'], ['21', '7'], ['21', '10'], ['21', '45'], ['21', '27'], ['21', '25'], ['21', '26'], ['22', '45'], ['22', '26'], ['22', '8'], ['23', '16'], ['23', '31'], ['23', '26'], ['24', '49'], ['24', '1'], ['24', '25'], ['24', '26'], ['24', '46'], ['24', '8'], ['24', '28'], ['25', '24'], ['25', '46'], ['25', '8'], ['25', '28'], ['26', '10'], ['26', '24'], ['26', '27'], ['27', '7'], ['27', '26'], ['27', '22'], ['28', '24'], ['28', '25'], ['28', '26'], ['28', '46'], ['28', '8'], ['29', '10'], ['29', '44'], ['29', '36'], ['29', '18'], ['29', '26'], ['29', '40'], ['29', '3'], ['29', '38'], ['29', '20'], ['31', '16'], ['31', '7'], ['31', '1'], ['31', '23'], ['31', '26'], ['31', '46'], ['31', '3'], ['32', '56'], ['32', '34'], ['32', '26'], ['32', '37'], ['32', '48'], ['33', '1'], ['33', '44'], ['33', '24'], ['33', '5'], ['33', '36'], ['33', '26'], ['34', '56'], ['34', '32'], ['34', '37'], ['34', '48'], ['35', '4'], ['35', '26'], ['35', '38'], ['35', '20'], ['36', '29'], ['36', '44'], ['36', '5'], ['36', '26'], ['36', '33'], ['37', '56'], ['37', '34'], ['37', '32'], ['37', '48'], ['38', '29'], ['38', '49'], ['38', '31'], ['38', '10'], ['38', '4'], ['38', '35'], ['38', '26'], ['38', '20'], ['39', '15'], ['39', '2'], ['39', '25'], ['39', '14'], ['40', '29'], ['40', '10'], ['40', '1'], ['40', '18'], ['40', '26'], ['40', '3'], ['44', '29'], ['44', '5'], ['44', '36'], ['44', '17'], ['44', '33'], ['45', '49'], ['45', '22'], ['45', '21'], ['46', '49'], ['46', '7'], ['46', '31'], ['46', '10'], ['46', '1'], ['46', '24'], ['46', '27'], ['46', '25'], ['46', '26'], ['46', '8'], ['46', '28'], ['48', '34'], ['48', '32'], ['48', '26'], ['48', '37'], ['49', '7'], ['49', '45'], ['49', '26'], ['50', '49'], ['52', '7'], ['52', '26'], ['52', '17'], ['52', '12'], ['52', '9'], ['53', '49'], ['53', '1'], ['53', '46'], ['53', '22'], ['54', '10'], ['54', '30'], ['54', '53'], ['55', '10'], ['56', '34'], ['56', '32'], ['56', '37'], ['56', '48']]\n",
      "-----Adjacency list------\n",
      "{'1': ['29', '31', '10', '18', '26', '40', '3'], '2': ['15', '39', '14'], '3': ['29', '49', '31', '10', '1', '18', '26', '40'], '4': ['29', '53', '35', '38', '20'], '5': ['44', '36', '19', '33'], '7': ['26', '17', '12', '52', '9'], '8': ['29', '49', '24', '25', '26', '46', '3', '22', '28'], '9': ['7', '26', '17', '12', '52'], '10': ['29', '49', '1', '55', '18', '26', '40', '3', '21'], '11': ['49'], '12': ['26', '17', '3', '52', '9'], '14': ['29', '15', '2', '26', '40', '39'], '15': ['2', '1', '26', '40', '3', '39', '14'], '16': ['31', '23', '26'], '17': ['7', '44', '26', '52'], '18': ['29', '10', '1', '40', '3'], '19': ['44', '34', '5'], '20': ['29', '1', '4', '45', '35', '38'], '21': ['49', '7', '10', '45', '27', '25', '26'], '22': ['45', '26', '8'], '23': ['16', '31', '26'], '24': ['49', '1', '25', '26', '46', '8', '28'], '25': ['24', '46', '8', '28'], '26': ['10', '24', '27'], '27': ['7', '26', '22'], '28': ['24', '25', '26', '46', '8'], '29': ['10', '44', '36', '18', '26', '40', '3', '38', '20'], '31': ['16', '7', '1', '23', '26', '46', '3'], '32': ['56', '34', '26', '37', '48'], '33': ['1', '44', '24', '5', '36', '26'], '34': ['56', '32', '37', '48'], '35': ['4', '26', '38', '20'], '36': ['29', '44', '5', '26', '33'], '37': ['56', '34', '32', '48'], '38': ['29', '49', '31', '10', '4', '35', '26', '20'], '39': ['15', '2', '25', '14'], '40': ['29', '10', '1', '18', '26', '3'], '44': ['29', '5', '36', '17', '33'], '45': ['49', '22', '21'], '46': ['49', '7', '31', '10', '1', '24', '27', '25', '26', '8', '28'], '48': ['34', '32', '26', '37'], '49': ['7', '45', '26'], '50': ['49'], '52': ['7', '26', '17', '12', '9'], '53': ['49', '1', '46', '22'], '54': ['10', '30', '53'], '55': ['10'], '56': ['34', '32', '37', '48']}\n"
     ]
    }
   ],
   "source": [
    "fromID_ToID = []\n",
    "with open('FromID and ToID.txt','r') as f1:\n",
    "    d = f1.read().splitlines()\n",
    "    for i in d:\n",
    "        c = i.split('\\t')\n",
    "        fromID_ToID.append(c)\n",
    "        \n",
    "#     print(d)\n",
    "    fromID_ToID.pop()\n",
    "    print(fromID_ToID)\n",
    "    \n",
    "adj_list_fromID_ToID = {}\n",
    "for i in fromID_ToID:\n",
    "    if i[0] not in adj_list_fromID_ToID:\n",
    "        adj_list_fromID_ToID[i[0]] = [i[1]]\n",
    "    else:\n",
    "        adj_list_fromID_ToID[i[0]].append(i[1])\n",
    "print('-----Adjacency list------')\n",
    "print(adj_list_fromID_ToID)\n"
   ]
  },
  {
   "cell_type": "code",
   "execution_count": 3,
   "metadata": {
    "scrolled": false
   },
   "outputs": [
    {
     "name": "stdout",
     "output_type": "stream",
     "text": [
      "jason\n",
      "[['0', 'alberto'], ['1', 'alex'], ['2', 'amy'], ['3', 'andy'], ['4', 'anthony'], ['5', 'billy'], ['6', 'bradley'], ['7', 'carlos'], ['8', 'carolyn'], ['9', 'cheryl'], ['10', 'clayton'], ['11', 'cody'], ['12', 'craig'], ['13', 'danny'], ['14', 'daryl'], ['15', 'derrick'], ['16', 'dwight'], ['17', 'elmer'], ['18', 'erik'], ['19', 'fernando'], ['20', 'floyd'], ['21', 'gilbert'], ['22', 'harry'], ['23', 'harvey'], ['24', 'isaac'], ['25', 'jack'], ['26', 'jacob'], ['27', 'jacqueline'], ['28', 'jason'], ['29', 'john'], ['30', 'jorge'], ['31', 'joyce'], ['32', 'karl'], ['33', 'kayla'], ['34', 'kenneth'], ['35', 'kent'], ['36', 'marcus'], ['37', 'marshall'], ['38', 'melvin'], ['39', 'mike'], ['40', 'nancy'], ['41', 'nicole'], ['42', 'ray'], ['43', 'ricardo'], ['44', 'ricky'], ['45', 'roland'], ['46', 'ryan'], ['47', 'scott'], ['48', 'sean'], ['49', 'sergio'], ['50', 'stephen'], ['51', 'theresa'], ['52', 'tom'], ['53', 'tommy'], ['54', 'tracy'], ['55', 'victoria'], ['56', 'vincent']]\n",
      "---------------\n",
      "{'alberto': '0', 'alex': '1', 'amy': '2', 'andy': '3', 'anthony': '4', 'billy': '5', 'bradley': '6', 'carlos': '7', 'carolyn': '8', 'cheryl': '9', 'clayton': '10', 'cody': '11', 'craig': '12', 'danny': '13', 'daryl': '14', 'derrick': '15', 'dwight': '16', 'elmer': '17', 'erik': '18', 'fernando': '19', 'floyd': '20', 'gilbert': '21', 'harry': '22', 'harvey': '23', 'isaac': '24', 'jack': '25', 'jacob': '26', 'jacqueline': '27', 'jason': '28', 'john': '29', 'jorge': '30', 'joyce': '31', 'karl': '32', 'kayla': '33', 'kenneth': '34', 'kent': '35', 'marcus': '36', 'marshall': '37', 'melvin': '38', 'mike': '39', 'nancy': '40', 'nicole': '41', 'ray': '42', 'ricardo': '43', 'ricky': '44', 'roland': '45', 'ryan': '46', 'scott': '47', 'sean': '48', 'sergio': '49', 'stephen': '50', 'theresa': '51', 'tom': '52', 'tommy': '53', 'tracy': '54', 'victoria': '55', 'vincent': '56'}\n"
     ]
    }
   ],
   "source": [
    "z1 = []\n",
    "with open('ID and Nickname.txt','r') as f2:\n",
    "    z = f2.read().splitlines()\n",
    "    for i in z:\n",
    "        c = i.split('\\t')\n",
    "        z1.append(c)\n",
    "\n",
    "def find_keys(string):\n",
    "    names = [name for key, name in z1 if key == string]\n",
    "    return names[0]\n",
    "\n",
    "print(find_keys('28'))\n",
    "    \n",
    "    \n",
    "#     print(z)\n",
    "print(z1)\n",
    "ID_Nickname = {}\n",
    "for i in z1:\n",
    "    ID_Nickname[i[1]] = i[0]\n",
    "print('---------------')\n",
    "print(ID_Nickname)\n",
    "    "
   ]
  },
  {
   "cell_type": "code",
   "execution_count": 4,
   "metadata": {},
   "outputs": [
    {
     "name": "stdout",
     "output_type": "stream",
     "text": [
      "[2]\n"
     ]
    }
   ],
   "source": [
    "c = [2]\n",
    "print(c)\n",
    "\n"
   ]
  },
  {
   "cell_type": "markdown",
   "metadata": {},
   "source": [
    "# Shortest path through BFS"
   ]
  },
  {
   "cell_type": "markdown",
   "metadata": {},
   "source": [
    "- The BFS tree"
   ]
  },
  {
   "cell_type": "code",
   "execution_count": 5,
   "metadata": {},
   "outputs": [
    {
     "data": {
      "text/plain": [
       "['24', '25', '26', '46', '8']"
      ]
     },
     "execution_count": 5,
     "metadata": {},
     "output_type": "execute_result"
    }
   ],
   "source": [
    "def get_neighbours(name):\n",
    "    return [i for i in adj_list_fromID_ToID[ID_Nickname[name]]]\n",
    "get_neighbours('jason')"
   ]
  },
  {
   "cell_type": "code",
   "execution_count": 6,
   "metadata": {},
   "outputs": [
    {
     "data": {
      "text/plain": [
       "['10', '24', '27']"
      ]
     },
     "execution_count": 6,
     "metadata": {},
     "output_type": "execute_result"
    }
   ],
   "source": [
    "adj_list_fromID_ToID['26']"
   ]
  },
  {
   "cell_type": "code",
   "execution_count": 7,
   "metadata": {},
   "outputs": [
    {
     "data": {
      "text/plain": [
       "['7', '26', '22']"
      ]
     },
     "execution_count": 7,
     "metadata": {},
     "output_type": "execute_result"
    }
   ],
   "source": [
    "adj_list_fromID_ToID['27']"
   ]
  },
  {
   "cell_type": "code",
   "execution_count": 8,
   "metadata": {},
   "outputs": [
    {
     "name": "stdout",
     "output_type": "stream",
     "text": [
      "26 0\n",
      "10 1\n",
      "24 1\n",
      "27 1\n",
      "29 2\n",
      "49 2\n",
      "1 2\n",
      "55 2\n",
      "18 2\n",
      "26 2\n",
      "40 2\n",
      "3 2\n",
      "21 2\n",
      "25 2\n",
      "46 2\n",
      "8 2\n",
      "28 2\n",
      "7 2\n",
      "22 2\n",
      "44 3\n",
      "36 3\n",
      "38 3\n",
      "20 3\n",
      "45 3\n",
      "31 3\n",
      "17 3\n",
      "12 3\n",
      "52 3\n",
      "9 3\n",
      "5 4\n",
      "33 4\n",
      "4 4\n",
      "35 4\n",
      "16 4\n",
      "23 4\n",
      "19 5\n",
      "53 5\n",
      "34 6\n",
      "56 7\n",
      "32 7\n",
      "37 7\n",
      "48 7\n"
     ]
    },
    {
     "data": {
      "text/plain": [
       "2"
      ]
     },
     "execution_count": 8,
     "metadata": {},
     "output_type": "execute_result"
    }
   ],
   "source": [
    "from collections import deque\n",
    "def find_shortest_distance(root,target):\n",
    "    dis = {}\n",
    "    visited = set()\n",
    "    r_key = ID_Nickname[root]\n",
    "    dis[r_key] = 0\n",
    "    que = deque()\n",
    "    que.append(r_key)\n",
    "    while que:\n",
    "        current = que.popleft() # previous level \n",
    "        print(current, dis[current])\n",
    "        for i in adj_list_fromID_ToID[current]: # current level\n",
    "            if i not in visited:\n",
    "                visited.add(i)\n",
    "                dis[i] = dis[current] + 1\n",
    "                que.append(i)\n",
    "    shortest_dis = dis[ID_Nickname[target]]\n",
    "    return shortest_dis\n",
    "    \n",
    "find_shortest_distance('jacob','jason')\n",
    "    "
   ]
  },
  {
   "cell_type": "markdown",
   "metadata": {},
   "source": [
    "# Close Friends"
   ]
  },
  {
   "cell_type": "code",
   "execution_count": 9,
   "metadata": {},
   "outputs": [
    {
     "name": "stdout",
     "output_type": "stream",
     "text": [
      "Close friends are: \n",
      " [['alex', 'joyce'], ['alex', 'clayton'], ['alex', 'erik'], ['alex', 'nancy'], ['alex', 'andy'], ['amy', 'derrick'], ['amy', 'mike'], ['amy', 'daryl'], ['andy', 'john'], ['andy', 'joyce'], ['andy', 'clayton'], ['andy', 'alex'], ['andy', 'erik'], ['andy', 'nancy'], ['anthony', 'kent'], ['anthony', 'melvin'], ['anthony', 'floyd'], ['billy', 'ricky'], ['billy', 'marcus'], ['billy', 'fernando'], ['billy', 'kayla'], ['carlos', 'elmer'], ['carlos', 'tom'], ['carlos', 'cheryl'], ['carolyn', 'isaac'], ['carolyn', 'jack'], ['carolyn', 'ryan'], ['carolyn', 'harry'], ['carolyn', 'jason'], ['cheryl', 'carlos'], ['cheryl', 'craig'], ['cheryl', 'tom'], ['clayton', 'john'], ['clayton', 'alex'], ['clayton', 'victoria'], ['clayton', 'erik'], ['clayton', 'jacob'], ['clayton', 'nancy'], ['clayton', 'andy'], ['clayton', 'gilbert'], ['craig', 'tom'], ['craig', 'cheryl'], ['daryl', 'derrick'], ['daryl', 'amy'], ['daryl', 'mike'], ['derrick', 'amy'], ['derrick', 'mike'], ['derrick', 'daryl'], ['dwight', 'joyce'], ['dwight', 'harvey'], ['elmer', 'carlos'], ['elmer', 'ricky'], ['elmer', 'tom'], ['erik', 'john'], ['erik', 'clayton'], ['erik', 'alex'], ['erik', 'nancy'], ['erik', 'andy'], ['fernando', 'billy'], ['floyd', 'john'], ['floyd', 'anthony'], ['floyd', 'kent'], ['floyd', 'melvin'], ['gilbert', 'clayton'], ['gilbert', 'roland'], ['harry', 'roland'], ['harry', 'carolyn'], ['harvey', 'dwight'], ['harvey', 'joyce'], ['isaac', 'jack'], ['isaac', 'jacob'], ['isaac', 'ryan'], ['isaac', 'carolyn'], ['isaac', 'jason'], ['jack', 'isaac'], ['jack', 'ryan'], ['jack', 'carolyn'], ['jack', 'jason'], ['jacob', 'clayton'], ['jacob', 'isaac'], ['jacob', 'jacqueline'], ['jacqueline', 'jacob'], ['jason', 'isaac'], ['jason', 'jack'], ['jason', 'ryan'], ['jason', 'carolyn'], ['john', 'clayton'], ['john', 'ricky'], ['john', 'marcus'], ['john', 'erik'], ['john', 'nancy'], ['john', 'andy'], ['john', 'melvin'], ['john', 'floyd'], ['joyce', 'dwight'], ['joyce', 'alex'], ['joyce', 'harvey'], ['joyce', 'ryan'], ['joyce', 'andy'], ['karl', 'vincent'], ['karl', 'kenneth'], ['karl', 'marshall'], ['karl', 'sean'], ['kayla', 'ricky'], ['kayla', 'billy'], ['kayla', 'marcus'], ['kenneth', 'vincent'], ['kenneth', 'karl'], ['kenneth', 'marshall'], ['kenneth', 'sean'], ['kent', 'anthony'], ['kent', 'melvin'], ['kent', 'floyd'], ['marcus', 'john'], ['marcus', 'ricky'], ['marcus', 'billy'], ['marcus', 'kayla'], ['marshall', 'vincent'], ['marshall', 'kenneth'], ['marshall', 'karl'], ['marshall', 'sean'], ['melvin', 'john'], ['melvin', 'anthony'], ['melvin', 'kent'], ['melvin', 'floyd'], ['mike', 'derrick'], ['mike', 'amy'], ['mike', 'daryl'], ['nancy', 'john'], ['nancy', 'clayton'], ['nancy', 'alex'], ['nancy', 'erik'], ['nancy', 'andy'], ['ricky', 'john'], ['ricky', 'billy'], ['ricky', 'marcus'], ['ricky', 'elmer'], ['ricky', 'kayla'], ['roland', 'sergio'], ['roland', 'harry'], ['roland', 'gilbert'], ['ryan', 'joyce'], ['ryan', 'isaac'], ['ryan', 'jack'], ['ryan', 'carolyn'], ['ryan', 'jason'], ['sean', 'kenneth'], ['sean', 'karl'], ['sean', 'marshall'], ['sergio', 'roland'], ['tom', 'carlos'], ['tom', 'elmer'], ['tom', 'craig'], ['tom', 'cheryl'], ['victoria', 'clayton'], ['vincent', 'kenneth'], ['vincent', 'karl'], ['vincent', 'marshall']]\n"
     ]
    }
   ],
   "source": [
    "close_friends = []\n",
    "for key in adj_list_fromID_ToID:\n",
    "    for i in adj_list_fromID_ToID[key]:\n",
    "        if i in adj_list_fromID_ToID.keys():\n",
    "            if key in adj_list_fromID_ToID[i]:\n",
    "                close_friends.append([key, i])\n",
    "close_friends_name = []\n",
    "for i,j in close_friends:\n",
    "    i_name = find_keys(i)\n",
    "    j_name = find_keys(j)\n",
    "    close_friends_name.append([i_name, j_name])\n",
    "        \n",
    "print('Close friends are:', '\\n',close_friends_name)\n",
    "            "
   ]
  },
  {
   "cell_type": "markdown",
   "metadata": {},
   "source": [
    "# Furthest Relationship"
   ]
  },
  {
   "cell_type": "code",
   "execution_count": null,
   "metadata": {},
   "outputs": [],
   "source": []
  },
  {
   "cell_type": "markdown",
   "metadata": {},
   "source": [
    "# Q2"
   ]
  },
  {
   "cell_type": "markdown",
   "metadata": {},
   "source": [
    "## Preprocessing"
   ]
  },
  {
   "cell_type": "code",
   "execution_count": 10,
   "metadata": {},
   "outputs": [
    {
     "name": "stdout",
     "output_type": "stream",
     "text": [
      "[['0', '284171'], ['0', '955'], ['0', '591'], ['0', '1098'], ['0', '6472'], ['0', '4189'], ['0', '529843'], ['0', '2369'], ['0', '890307'], ['0', '1299']]\n",
      "-----Adjacency list------\n"
     ]
    }
   ],
   "source": [
    "links = []\n",
    "with open('links.txt','r') as l:\n",
    "    da = l.read().splitlines()\n",
    "    for i in da:\n",
    "        c = i.split('\\t')\n",
    "        links.append(c)\n",
    "\n",
    "    print(links[0:10])\n",
    "    \n",
    "adj_list_links = {}\n",
    "for i in links:\n",
    "    if i[0] not in adj_list_links:\n",
    "        adj_list_links[i[0]] = [i[1]]\n",
    "    else:\n",
    "        adj_list_links[i[0]].append(i[1])\n",
    "    if i[1] not in adj_list_links:\n",
    "        adj_list_links[i[1]] = []\n",
    "print('-----Adjacency list------')\n",
    "# print(adj_list_links)\n"
   ]
  },
  {
   "cell_type": "markdown",
   "metadata": {},
   "source": [
    "- check"
   ]
  },
  {
   "cell_type": "code",
   "execution_count": 11,
   "metadata": {
    "scrolled": true
   },
   "outputs": [
    {
     "name": "stdout",
     "output_type": "stream",
     "text": [
      "[]\n",
      "['976856', '17810', '755978', '225695', '114650', '884608', '110117', '145945', '46855', '80268', '48405', '568560', '873158', '108156', '154330', '129906', '79748', '298972', '295248', '710192', '1275878', '417571', '726729', '392370', '300228', '571163', '46852', '84226', '1239360', '851077', '77132', '187492', '771747', '1149810', '194648', '1806', '165801', '83162', '582092', '159481', '1292142', '89073', '855503', '17848', '590366', '8487', '103786', '65629', '194402', '24146', '126003', '262666', '1030159', '132462', '4214', '59215', '10656', '92246', '338473', '8135', '28267', '84946', '22128', '175608', '244242', '25313', '175183', '87147', '17811', '13187', '150704', '1112130', '947693', '33010', '2260', '153519', '8938', '893863', '36455', '163799', '54942', '22359', '44223', '186216', '197302', '862635', '63257', '107675', '168472', '1497', '733138', '74613', '67342', '326373', '197023', '276493', '49147', '326368', '55618', '47633', '145279', '142835', '26702', '790741', '80559', '5109', '128544', '355398', '401775', '412256', '80558', '47298', '386193', '1065029', '92956', '46133', '5', '592904', '94348', '17893', '7276', '42549', '1329666', '1018334', '77486', '168142', '893782', '253078', '192038', '1025448', '269405', '39379', '413103', '410263', '106155', '264584', '160362', '1151076', '192382', '51278', '354587', '13445', '965222', '7853', '22691', '1213839', '336801', '667330', '110032', '148381', '26490', '326361', '326360', '45488', '483490', '7633', '912304', '56894', '22568', '236263', '161279', '66688', '927119', '2887', '4561', '97121', '4024', '536606', '48176', '121794', '296097', '17586', '861171', '36950', '96823', '659427', '450473', '5639', '2612', '3339', '1022397', '2616', '31141', '5057', '68597', '2661', '7318', '409713', '846861', '667690', '82135', '73144', '49496', '57024', '662665', '23150', '747976', '136133', '161828', '297471', '4237', '12581', '59025', '948014', '22348', '47255', '732860', '2365', '378908', '7319', '411625', '705245', '390262', '2643', '19839', '447940', '3821', '83310', '174552', '1242', '48055', '62044', '1786', '175336', '174202', '74608', '12256', '119164', '17339', '11362', '197386', '321925', '205815', '835161', '861178', '56882', '1069305', '87079', '704524', '95795', '56889', '948011', '1039889', '377323', '658403', '957362', '151256', '364368', '857156', '43225', '112330', '606758', '217784', '922515', '7304', '1018335', '45332', '18758', '923520', '2092', '170797', '383000', '411557', '583020', '412339', '861392', '1356889', '623095', '1138939', '910371', '1236579', '339017', '68051', '11883', '53160', '63226', '1150487', '114423', '186224', '709667', '571083', '77903', '1294726', '119222', '112927', '197324', '25485', '341989', '22338', '30706', '172122', '192161', '662125', '155489', '204657', '59876', '3272', '14173', '2730', '192413', '412283', '868960', '189256', '893864', '173950', '120194', '2515', '819502', '49285', '61762', '180331', '206312', '327406', '67559', '41', '98850', '80005', '152236', '121457', '412304', '86021']\n"
     ]
    }
   ],
   "source": [
    "print(adj_list_links['1093021'])\n",
    "print(adj_list_links['22557'])"
   ]
  },
  {
   "cell_type": "code",
   "execution_count": 12,
   "metadata": {},
   "outputs": [
    {
     "name": "stdout",
     "output_type": "stream",
     "text": [
      "Finished\n",
      "['Cascading_Style_Sheets', 'C_Sharp', 'Shift_JIS', 'Secure_Shell', 'Shell', 'Shift_JISX0213', 'Shock_Wave_Flash', 'Shade', 'Osaka_Shion_Wind_Orchestra', 'Ghost_in_the_Shell', 'Shuzo_Azuchi_Gulliver', 'Fiat-Shamirヒューリスティック', 'WinShell', 'SpaceShipOne', 'International_Herald_Tribune/The_Asahi_Shimbun', 'Planet_Shining', 'Shibuya_O-EAST', 'Shift-JIS', 'Sh', 'Shake', 'The_Nutty_Radio_Show_おに魂', 'Shingo', 'BShi', 'Shinya', 'Shy', 'Shiina', 'Z_Shell', 'FM_Radio_Shopping', 'Air_Precision_Shooting', 'Shall_we_ダンス?', 'Shall_We_Dance?', 'Sh15uya', 'Corel_Paint_Shop_Pro', 'TENEX_C_Shell', 'Shift-jis', 'Shift_jis', 'Shoegazer', 'PPSh-41', 'Shakedown', 'Shareaza', 'Shamardal', 'Shh', 'Showgate_RADIO', 'Sketch_Show', 'Share_(ソフトウェア)', 'FlyingShine', 'ルパン三世_(Shusay版)', 'TOYOTA_Presents_片山右京のShall_We_Drive?〜ドライブしようよ!〜', 'Open_Shortest_Path_First', 'Shell_Sound_Ignition', 'Captain_of_the_Ship', 'Shuttle_Radar_Topography_Mission', 'C_Shell', 'Korn_Shell', 'Shuffle!', 'Interstage_Shunsaku_Data_Manager', 'Shizuoka.jp', 'Shiga.jp', 'Shimane.jp', 'MUHShield', 'Shuzilow.HA', 'Shout!', 'Open_Secure_Shell', 'Phase_Shift_Keying_31_Baud', 'Cyber-Shot', 'MS-DOS_Shell', 'Pet_Shop_Boys', 'PetShopBoys', 'Bourne_Shell', 'Shunn', 'YamoShim', 'Shining_eyes', 'Real_Thing_Shakes', 'Shalala_キボウの歌', 'Shalalaキボウの歌', 'DirectShow_Media', 'DVD_Shrink', 'DJ_Shufflemaster', 'Shake_It_Up_(倖田來未の曲)', 'Wings_of_Winter,_Shades_of_Summer', 'Ipod_Shuffle', 'GAKU-Shock', 'Shiho', 'Shockwave_Flash', 'Apple_Shake', 'Shinobi', '忍-Shinobi-', 'Shelf', 'Shibuya_O-WEST', 'Shake_Hip!_(Ishii_Version)', 'The_Eminem_Show', 'She\\\\', 'Time_Sharing_Option', 'V-air_EVENING_Radio_Show_PLEASURE×PLEASURE', 'Shing02', 'Maher_Shalal_Hash_Baz', 'シュパーギンPPSh41短機関銃', '東方文花帖_〜_Shoot_the_Bullet.', 'CyberShot', 'Shop99', 'The_Sharp', '片山右京のShall_We_Drive?～ドライブしようよ!～', '片山右京のShall_We_Drive', '片山右京のShall_We_Drive?', 'I_Want_You_(She\\\\', 'Microsoft_SharePoint_Designer', 'Share', 'The_History_of_Shogo_Hamada_\\\\\"Since1975\\\\\"', 'Shallow_Sleep', 'Windows_Live_Shopping', 'PowerShot_SD700_IS_Digital_ELPH', 'Short_Circuit', 'Sharp_V201SH', 'Sharp_V302SH', 'Sharp_SH901iS', 'Sharp_SH901iC', 'Sharp_SH900i', 'Sharp_SH700i', 'Sharp_J-SH53', 'Sharp_V403SH', 'Sharp_V601SH', 'Sharp_V501SH', 'Sharp_V801SH', 'Sharp_V604SH', 'Sharp_V603SH', 'Sharp_V602SH', 'Sherwood_Rowland', 'Shall_We_Dance', 'Sharp_Auvi', 'IPod_Shuffle', 'Shibuya_O-Crest', 'Shibuya_O-CREST', 'Shibuya_O-nest', 'Shibuya_O-NEST', 'StickShot', '螢火/Show_Time', 'Shop_Magnifica', '蛍火/Show_Time', 'One_Show', 'Bathtub_Shitter', 'Shakespeare_(プログラミング言語)', 'SafetyShoes', 'Dream_Drive/Shut_Out', 'Shake_Hip!', 'Shpongle', 'DJ_Shadow', 'Cascading_Style_Sheet', 'Shungo.', 'DShK38重機関銃', 'Nuts_Melon_Show!', 'Cat_Shit_One', 'Shibuya_eggman', 'Shangri-La_(電気グルーヴの曲)', 'The_QuizMan_Show', 'Active_Virus_Shield', 'Electric_Eel_Shock', 'Shuriken', 'Over_Shine', 'The_New_Tom_and_Jerry_Show', 'Delicious!〜The_Best_of_Hitomi_Shimatani〜', 'Workplace_Shell', 'Shift_JIS-2004', 'She_loves_you_(渡辺美里のアルバム)', 'Shall_we_ダンス', 'Shabon_songs', 'Sh15uya_-シブヤフィフティーン-', 'Shut_Up', 'Shaman', 'Park_city_Shinkawasaki', 'InstallShield', 'Shallweダンス', 'A_Tribute_to_Shonen_Knife_-_Fork_and_Spoon', 'Sha_la_la_-アヤカシNIGHT-', 'And_She_Said', 'Kula_Shaker', 'Microsoft_Visual_C_Sharp', 'SHOCK_is_Real_Shock', 'Shocking_SHOCK', 'Show劇・SHOCK', 'SHOCK～is_Real_Shock～', 'SHOCK-is_Real_Shock-', 'Radio_Magazine_Playland_Shiga', 'Shockwave', 'Adobe_Shockwave', 'Shine_We_Are!', 'Shine_We_Are', 'Shio', 'Shiena', 'Shapes_Of_Love/Never_Stop!', 'Shine', 'Shibuya_Deep_A', 'Shining_Star_☆忘れないから☆', 'C_SharpとJavaの比較', 'Shuji', 'Shadow_of_Memories', 'Shadow_of_memories', 'Sherbet_Snow_and_the_Airplane_e.p.', 'Sharbet_Snow_and_the_Airplane', 'Sherbet_Snow_and_the_Airplane', '島唄_Shima_Uta', 'K-Shop', 'Sherbets', 'Sherbet', 'Shemoth', 'F_Sharp', 'Shingyoku', 'Shion〜愛の祈り〜', 'Shin_megamitensei_tokyo_requiem', '島唄_Shima_uta', 'Shebang', 'Shining_Tears_X_Wind', 'Short_Message_Service', 'Shake_(DOUBLEの曲)', 'Massively_Multiplayer_Online_First-Person_Shooter', 'Shayne_Ward', 'Enter_Shikari', 'Windows_PowerShell', 'Shining_stars_bless☆', 'Space_Shower_TV', 'Make-up_Shadow_(上原多香子の曲)', 'Make-up_Shadow', 'Shared_Source_CLI', 'Shared_Source_Licensing_Program', 'White_Silent_Night/Sherry', 'Shall_We_ダンス?', '一騎当千_Shining_Dragon', 'BioShock', 'Radio_Shopping_Style', 'Game_Shark', 'She_Best_of_Best', '東方文花帖_～_Shoot_the_Bullet.', 'Microsoft_Shared_Source_Initiative', 'She_Said,_She_Said', 'Crimson-Shell', 'Shared_source', 'Shall_we_Sax?', 'Friend-Ship_Project', 'The_Ten-Show', 'Sharp-P', 'Your_Mother_Should_Know', 'Adobe_Shockwave_Player', 'Shizuka_Kudo_20th_Anniversary_the_Best', 'Electric_Sheep', 'RapidShare', 'She_Came_In_Through_the_Bathroom_Window', 'Sherry', 'あなたのすべてになりたい/Shinin\\\\', 'Unseasonable_Shore', 'Blue_Shift', 'DShK_(機関銃)', 'Shio忍', 'Sha_la_la', 'Showgate_radio', 'PowerShot', 'Shun_Hing_Square', 'Ortiz_vs._Shamrock_3', 'Sh704i', 'TOYOTA_Presents_片山右京のShall_We_Drive?～ドライブしようよ!～', 'Shin-D', 'Shiny', 'Showgate', 'Delicious!～The_Best_of_Hitomi_Shimatani～', 'Prism:_Guard_Shield', 'GENEON&Showgate_Presents_偽・うpのギョーカイ時事放談SUPER!', 'SheepShaver', 'Shine_We_Are!/Earthsong', 'Shine_We_Are!_/_Earthsong', 'Shooting_Star_(KOTOKOの曲)', 'Shaiya', 'てれとShop', 'Sherlock_(ソフトウェア)', 'Narrow_Gauge_and_Shortline_Gazette', 'Narrow_Gauge_&_Shortline_Gazette', 'Shining_(Crystal_Kayのアルバム)', 'Shion～愛の祈り～', 'Tall_Timber_Short_Lines', 'High_Level_Shading_Language', 'The_Tonight_Show_with_Jay_Leno', 'OSShD', '熱走!!_Exciting_Car_Showdown', 'She-Shell', 'Until_Strawberry_Sherbet', 'Bourne_Again_Shell', 'To_the_Shores_of_Iwo_Jima', 'Showgateラジオ', 'X_JAPAN_Virtual_Shock_001', 'J_Sharp', 'Ships_(織田哲郎のアルバム)', 'SharpDevelop', 'Windy_Shadow', 'Show_me_your_style', 'Shihomi', 'Shin', 'Heart_Sharing', 'Shade_(音楽家)', 'Shuffle_(MY_LITTLE_LOVERの曲)', 'The_Show_Must_Go_On_(アルバム)', 'Almquist_Shell', 'Shalom', 'Rain_or_Shine', 'Killer_Show', 'OnSheet', 'Give_me_a_Shake', 'Shape_〜in_the_shape_of_wing', 'Shadows_of_Dreams', 'Shuzilow._HA', '細川茂樹_SBSで行こう!〜Shigeki_Break_Saturday〜', '細川茂樹_SBSで行こう!～Shigeki_Break_Saturday～', 'Shizuka_Kudo_THE_LIVE_DVD_COMPLETE_BOX', 'Shandong_Airlines', 'Shenzhen_Airlines', 'Shining_Tears/光のシルエット', 'Shining_Tears', 'Self_Control_and_the_Scenes_from_“the_Shooting”', 'KuickShow', 'Shot_gun_Wedding', 'Shiro_SAGISU_Music_from_\\\\\"EVANGELION:_1.0_YOU_ARE_(NOT)_ALONE\\\\\"', 'Consumer_Electronics_Show', 'Short_Shorts_TV', 'Shine_more', 'Sheryl_Crow', 'Paint_Shop_Pro', 'WinShare', 'Shima-chang', 'Microsoft_SharePoint', 'Shame', 'Shiny_GATE', 'Blum-Blum-Shub', 'Blum_Blum_Shub', 'Blood_Red_Shoes', 'MY_PRECIOUS_-Shizuka_sings_songs_of_Miyuki-', 'Exec_Shield', 'Local_Shared_Object', 'Shed_Skin', 'Bass_Pro_Shops', 'Bass_Pro_Shop', 'Shorten', 'AppleShare', 'Shogo', 'Microsoft_Office_SharePoint_Server', 'シュベツォフ_ASh-73', 'Supreme_Show', 'Shibuya_O-West', 'Shibuya_O-East', 'Shen', 'Gtk_Sharp', 'The_Tonight_Show', 'The_Tonight_Show_With_Jay_Leno', 'The_Late_Show_with_David_Letterman', 'Shuffle', 'Shake_it', 'Future_Century_Shakespear', 'Future_Century_Shakespeare', 'Shinin\\\\', 'Shuffle_(奥井雅美の曲)', 'SharePoint', 'The_Late_Late_Show', 'Windows_SharePoint_Services', 'Microsoft_Office_SharePoint_Designer', 'シュベツォフ_ASh-82', 'シュベツォフ_ASh-62', 'ShKAS_(機関銃)', 'Kou_Shibasaki_Best_Special_Box', 'Everyday_Shooter', 'ShVAK_(機関砲)', 'Future_Shock', 'The_Early_Show', 'Jake_Shimabukuro', 'Yumi_Shizukusa_II', 'Moonlight_Shadow', 'ASh-82', 'The_Best_of_Shogo_Hamada_vol.1', 'The_Best_of_Shogo_Hamada_vol.2', 'Shock_Price_500', 'Love_Shuffle', 'Microsoft_Office_SharePoint_Portal_Server', '羞-Shu-', 'System_Shock', 'Shoichi', 'Chrome_Shelled', 'AppleShare_IP', 'Shakuyaku', 'Cramer-Shoup暗号', 'Night_of_the_Day_of_the_Dawn_of_the_Son_of_the_Bride_of_the_Return_of_the_Revenge_of_the_Terror_of_the_Attack_of_the_Evil,_Mutant,_Alien,_Flesh_Eating,_Hellbound,_Zombified_Living_Dead_Part_2:_In_Shocking_2-D', 'Shojo_friend', 'Shade_(曲)', 'Shinjang_Uyghur_aptonom_rayoni', 'Shock_On_The_Piano', 'My_SunShine', 'Shining_ray', 'Shining!/cry_baby', 'Sherwood', 'Shout_at_YUMING_ROCKS', 'The_Show_Must_Go_On', 'Share_The_World/ウィーアー!', 'Share_The_World/ウィーアー!_(東方神起の曲)', 'Shangri-La_(angelaの曲)', 'Shining☆Days', '影Shadow', '中山優馬_w/B.I.Shadow', 'Maia_Shibutani', 'DirectShow', 'Makoto_Shina', 'ShR', 'Shop240', 'I_Survived_a_Japanese_Game_Show', 'Real_Thing_Shake', 'Tokyo_Shore_Seabass_Tournament', '流れ星〜Shooting_Star〜', '流れ星_〜Shooting_Star〜', 'Shalim_Ortiz', 'Shoutcast', 'Shp', 'Shamo', '中山優馬_with_B.I.Shadow', 'East_West_Shuttle_(イースト・ウエスト・シャトル)', 'PowerShell', 'Shojo_Beat', 'Sha1sum', 'ImageShack', 'COLORS_〜Melody_and_Harmony〜/Shelter', 'Shoko', 'PPSh', 'Shinedown', 'Fly_High/Moonlight_Shadow', '急☆上☆Show!!', 'Shock_of_Love', 'シュパーギンPPSh-41短機関銃', 'This_Is_My_Shit', 'Shine_and_Eternity', 'AirShop', 'Air_Shop', 'Wayne_Shorter', 'Fender_Custom_Shop', 'PPSh-41_(機関拳銃)', 'Shout_Aloud!/Beat_Flash', 'Shadows_and_Light', 'Shinonome', 'Ravi_Shankar', 'Shyness_Overdrive', 'Wink_First_Live_Shining_Star', 'The_Shins', 'Billy_Sheehan', '輝煌_〜Shining_Energy〜', 'Microsoft_SharePoint_Online', 'Shelly_Trip_Realize', 'SharePoint_Server', 'Office_SharePoint_Server', 'What_A_Shiny_Day', 'しぇいけんBABY!_Shakespeare_Syndrome', 'Kou_Shibasaki_Live_Tour_2008_〜1st〜', 'Kou_Shibasaki_invitation_LIVE', 'Shy_Girls', 'キヤノン_PowerShot_S90', 'Shout', 'Strikeforce:_Lawler_vs._Shields', 'ニード・フォー・スピード_シフト_Need_for_Speed:_Shift', '劇団K-Show', 'BioShock2', 'Strikeforce:_Shamrock_vs._Diaz', 'Shade〜saw_the_light_&_shade〜', 'Shockwave_Player', 'WideShop', '\\\\\"Show_me_the_way\\\\\"', 'Tamura_Naomi_A.K.A._Sho-ta_Sho-ta_A.K.A._Tamura_Naomi', 'Short_Code_(プログラミング言語)', 'HAPPY_SWING_LIMITED_DVD_\\\\\"CUBE-BOX\\\\\"_GLAY_HIGHCOMMUNICATIONS_TOUR_2007-2008_at_Shibuya_C.C.Lemon_Hall', 'Kou_Shibasaki_Live_Tour_2010_〜ラブ☆パラ〜', 'Shinobu', 'Shade_(曖昧さ回避)', 'Shikata_ga_nai', 'Shooting_star_〜シューティングスター〜', 'しぇいけんBABY!_-Shakespeare_Syndrome-', 'Shake_It_Down', 'White_Shiny_Street', 'Shoes', 'Dry_Town_〜Theme_of_Zero〜/Shadow_behind', 'Shikasha', 'Do_Shock_Booze', 'GSh-30-1_(機関砲)', 'GSh-30-2_(機関砲)', 'GSh-23_(機関砲)', 'GSh-6-30_(機関砲)', 'Shy_Shy_Japanese', 'GSh-6-23_(機関砲)', 'HackShield', 'Shinsekai', 'Shintoku空想の森映画祭', '翼_〜Very_Best_of_Mikuni_Shimokawa〜', 'Shoko_(Jazz)', 'Golden_Shield_Project', 'ShaneDawsonTV', 'よしもと!Shall_Weショッピング', 'よしもと!Shall_We_ショッピング', 'SO2_(Shinichi_Osawaのアルバム)', 'ShoMMA:_Strikeforce_Challengers_9', 'ShoMMA:_Strikeforce_Challengers', 'William_Forsyth_Sharpe', '喜多村英梨のワンダリーRadio_Show', 'She_(バンド)', 'Shawty', 'Shadow_WEST', 'She_Loves_Lovin\\\\', 'Light_and_Shadows', 'Shopformer', 'Shiny+', 'Shout_It_Out', 'Sho-Comi', 'MediaShow', 'サガ3時空の覇者_Shadow_or_Light', 'The_Best_of_Shogo_Hamada_vol.3_The_Last_Weekend', 'サガ3_時空の覇者_Shadow_or_Light', 'Castlevania_-Loads_of_Shadow-', 'トモハナ☆ハラShowタイム!', 'Shout_in_the_rain', 'Castlevania_-Lords_of_Shadow-', 'Shibboleth', 'Sheサイド_ストーリー', 'The_Nutty_Radio_Show_鬼玉', 'Recettear:_An_Item_Shop\\\\', 'Mind_Shift', 'キヤノン_PowerShot_S95', 'LOVE_LOVE_SHOW/Shangri-La', 'Power_of_Shine/MOON_〜月光〜ATTACK', 'El_Shaddai_-_エルシャダイ_-', 'Shiro', 'Pearl_(Shiroの曲)', '99%_Radio_Show', 'コレデイイノ?!/恋の悪魔_-She\\\\', 'Sha-La-La', 'Sha-la-la', '熱思考_-She_became_cold-', 'LIVE_NATURE_＃3_SPECIAL_〜Rain_or_Shine〜', 'PAKU_PAKU_-The_Pandaman_Show-', 'Show_Me_Love_(Not_A_Dream)', 'ShRNA', 'All_the_Things_She_Said', 'ShoMMA:_Strikeforce_Challengers_10', 'P.S._-Pop_Shake-', 'P.S.～Pop_Shake～', 'Shinji_Harada_at_Budokan_\\\\', 'Me_and_My_Shadow', 'Shola_Ama', 'Shining_Love_(Single_Version)', 'Show_Your_Love', 'Shall_we_travel??', 'Shining☆Star', 'Shinji_Harada_MTV_PREMIUM_LIVE_in_duo', 'キヤノン・PowerShotシリーズ', 'GTK_Sharp', 'LIVE_D-ROCK_with_U_〜DAICHI_MIURA_LIVE_Chapter-2〜_@Shibuya_AX_5th_February', 'Shangri-La_(吉田拓郎のアルバム)', 'Shinji_Sudo', 'Heaven_Shall_Burn', 'Break_into_the_Light〜約束の帽子〜/The_Sharing_Song〜トリコのテーマ〜', 'Shakira', 'Shared_nothingアーキテクチャ', 'ShakespeareWilliam', 'William_Shakespeare', 'SharePoint_Online', 'Microsoft_SharePoint_Server', 'ShunKan', 'Ships_of_the_Royal_Navy', 'GNOME_Shell', 'Road_Show', 'PPSh-41短機関銃', 'Showska', 'ケータイShoin', 'SheevaPlug', 'Shine_on_me', 'ShoMMA:_Challengers_17', 'ニンテンドーeShop', 'Nintendo_eShop', 'Minotaur_Shock', 'Kierra_\\\\\"Kiki\\\\\"_Sheard', 'Kierra_Sheard', 'Shinobu_Ito', 'Share_The_Love', 'Music_Shower', 'Short_hair', 'TOKYO_IDOL_FESTIVAL_2010_@Shinagawa', 'Showdown', 'Red_Arrow,_Black_Shield', 'She_is', 'The_History_of_Shogo_Hamada_\\\\\"Since_1975\\\\\"', 'Shooting_Star', 'Shade_Empire', 'Shawn_Colvin', 'Shotwell', 'Shonai観光', 'Sherlock', 'ShinSight_Trio', 'Shady_Records', 'Shooting☆Smile', 'Weekend_Shuffle', 'Kis-My-Ftに逢えるde_Show_vol.3_at_国立代々木第一体育館_2011.2.12', 'Shake_it_up', 'Shake_It_Up', 'El_Shaddai_外伝_エクソダス', 'Day_by_Day/Shining_Blue_Rain', 'Shining_Blue_Rain', 'コープスパーティー_Book_of_Shadows', 'Sweets-Best_of_Ryoko_Shinohara-', 'Shinobi_3D', 'DOCUMENTARY_of_AKB48_Show_must_go_on_少女たちは傷つきながら、夢を見る', 'Shambara', '天才柳沢教授_孫・華子との生活_Special_Short_Short', 'Shingo_Suzuki', 'Abandon_All_Ships', 'Share_(CoCoのアルバム)', 'Shiny_Morning', 'Ark_Shell', 'Shche-2_(航空機)', 'Shonan_BMW_スタジアム平塚', 'Shn_(ISO_639)', 'Dal★Shabet', 'Shamanippon_-ラカチノトヒ-', 'ShiftJIS', 'スクール_Live_Show', 'Showtime_(アルバム)', 'Shout_In_The_Rainbow!!', 'Sharp_♯', 'Sh2-155', 'Kou_Shibasaki_Live_Tour_2011_“CIRCLE_&_CYCLE”', 'Shinancien', 'Sh2-101', 'Alexander_Shulgin', 'Shine_(家入レオの曲)', 'Shámbara', 'Shiny_steps!!', 'Pokemon_Radio_Show!_ロケット団ひみつ帝国', 'Pokémon_Radio_Show!_ロケット団ひみつ帝国', 'UFC_Fight_Night:_Shields_vs._Ellenberger', 'PPSh1941', 'Shiny_Day', 'Shiina_(アルバム)', 'Twin_Shadow', 'WANNA_BEEEE!!!/Shake_It_Up', '20101225_〜Last_Night_Show〜', '20101225_～Last_Night_Show～', 'Shiras.', 'Shibata', 'Show_Time', 'Shellshock_2:_Blood_Trails', 'Shining_All_Star_CD', 'Two_Shot', 'Shadow_DOM', 'English_As_She_Is_Spoke', 'Shichida_Method', 'Shout/hummingbird', 'D-ROCK_with_U_〜DAICHI_MIURA_LIVE_Chapter-2〜_@Shibuya_AX_5th_February', 'Shake_Shack', 'Mikuni_Shimokawa_Singles_&_Movies', 'Shiro_SAGISU_Music_from_\\\\\"EVANGELION:3.0\\\\\"_YOU_CAN_(NOT)_REDO.', 'Shing', 'Shintaro_Mizuno', 'Shell_EasyPay', '植村花菜の「あなたの夢を花菜えまShow」', 'Sharks', 'RocketShoot', 'シュベツォフ_ASh-21', 'ASh-21', 'BioShock_Infinite', 'シュベツォフ_ASh-2', 'Heather_LOVE_Short_Movies', 'Shino', 'あしあとリズム_〜Haruka_Shimotsuki_works_best〜', 'Sony_Music_Shop', 'Shela', '植村花菜のあなたの夢を花菜えまShow', 'Shining_Star-☆-LOVE_Letter', 'Shinji_Harada_35th_Anniverary_Special_Live!!_\\\\\"The_Load_to_the_Light_1st_Stage_Final\\\\\"', 'あなたの夢を花菜えまShow', 'Show_TIME', 'Shiny_Blue', 'Shop_Boyz', 'ShiftyLook', 'Our_Shining_Idol_今君に会いたい', 'Shackles_of_Night', 'Show_Champion', '流星☆キセキ_-Shooting_probe-', 'マイク_Family_Show', '安全地帯XIV〜The_Saltmoderate_Show〜', 'Shout_to_the_Walls!', 'Shutterstock', 'Shana', 'Shanna', 'Shadow_Warrior', 'Shinyaku_Seiken_Densetsu', 'Shift-or_アルゴリズム', 'DJ_Sharpnel', 'Shanti_Snyder', 'サンデー19Show', 'JET55〜Eagle,Shark,Panther〜', 'SlideShare', 'UFC_Fight_Night:_Shogun_vs._Sonnen', 'Sherlock_(SHINeeの曲)', 'Shooting_star_(Alice_Nineの曲)', 'ビジュアルアーツ大感謝祭_「Shift:NEXT_→Generation!」_-きみとかなでるあしたへのうた-', 'Puppet_Show', 'Sh2-274', 'Shift-andアルゴリズム', 'Shining!!', 'ShareWis', 'Shopkick', 'ShAbo', 'Shift-and_アルゴリズム', 'Like_a_Shooting_Star', 'She・See・Sea', 'Shooting_Star_〜夢へと届け〜', 'Overblow_Tour_2012_Live_in_Shibuya_Club_Quattro', 'UFC_Fight_Night:_Maia_vs._Shields', 'Shamanippon_-ロイノチノイ-', 'Show_fight!', 'Shout_It_Out_(BoAの曲)', 'Shizuku', 'DShK', 'Shi-shonen', 'Shh...', 'ShowTime', 'Fire_Emblem:_Shadow_Dragon_and_the_Blade_of_Light', '大図書館の羊飼い_-Dreaming_Sheep-', 'ShopDingDong', 'Shimada_Hajime', 'Hajime_Shimada', 'Shanghai_Tower', 'Akane_Shinsha', 'UFC_Fight_Night:_Shogun_vs._Henderson_2', 'MilkShake', 'Kis-My-Ftに010_逢えるde_Show', 'Kis-My-Ftに逢える_de_Show', 'Kyunghyang_Shinmun', 'Shiing-Shen_Chern', '冠動脈のShaher分類', 'Shaher分類', 'U字工事のShake-Hands!', 'Blue_Suede_Shooting_Star', '越乃Shu*Kura', 'Shadows_Fall', 'ゆざわShu*Kura', 'Ilya_Piatetski-Shapiro', 'Shooting_Star_Girls', 'Dangerous_-_The_Short_Films', 'Shigefumi_Mori', 'ShibuyaDeepA', 'Shout_(andropの曲)', 'ShoMMA:_Strikeforce_Challengers_6', 'ShoMMA:_Strikeforce_Challengers_7', 'ShoMMA:_Strikeforce_Challengers_8', 'Shine_We_Are!_(曲)', '＃10_story_〜Best_of_Yumi_Shizukusa〜', 'The_Oprah_Winfrey_Show', 'Late_Show_with_David_Letterman', 'Shortest_Path_Bridging', 'Asahi_Shimbun', 'Shangri-La_Shower', 'Shu', 'Thompson_Shell', 'YUMI_MATSUTOYA_CONCERT_TOUR_2011_Road_Show', 'Liu_Shishi', 'Shishi_Liu', 'Cheng_Tai_Shen', 'Tai_Shen_Cheng', 'Tai_Shen_Chen', 'Chen_Tai_Shen', 'UFC_Fight_Night:_Shogun_vs._St._Preux', 'We_Shall_Overcome', 'Win_Shares', 'A_Limited_Edition_of_Yumi_Shizukusa', 'Glamorous_Show〜Japanese_Legendary_Rock_Covers', 'Shu-Shu・Pooh', 'Shai_Hulud', 'Star_Shine_Story', 'High_Level_Shader_Language', 'Sheila_Kelley', '機装ルーガII_The_Ends_of_Shangrila', 'Should_I_Remove_It?', 'Shiggy_Jr.のオールナイトニッポン0(ZERO)', 'Shine_On', 'Shokuhin_Matsuri', 'Showroom', 'She_(テレビドラマ)', 'She', 'ShadyXV', 'Visual_C_Sharp', 'ShibuyaDeep_A', 'Shoichi_(企業)', 'Shotest', 'GNU_Shogi', 'I_Should_Be_So_Lucky', 'Do_You_Ever_Shine?', 'Sparky_Shadow']\n"
     ]
    }
   ],
   "source": [
    "pages = []\n",
    "with open('pages.txt','r') as p:\n",
    "    dat = p.read().splitlines()\n",
    "    for i in dat:\n",
    "        c = i.split('\\t')\n",
    "        pages.append(c)\n",
    "\n",
    "ID_pages = {}\n",
    "for i in pages:\n",
    "    ID_pages[i[1]] = i[0]\n",
    "print('Finished')\n",
    "\n",
    "test2 = []\n",
    "for i in ID_pages.keys():\n",
    "    if 'Sh' in i:\n",
    "        test2.append(i)\n",
    "print(test2)"
   ]
  },
  {
   "cell_type": "markdown",
   "metadata": {},
   "source": [
    "- check"
   ]
  },
  {
   "cell_type": "code",
   "execution_count": 16,
   "metadata": {},
   "outputs": [
    {
     "name": "stdout",
     "output_type": "stream",
     "text": [
      "1093021\n",
      "22557\n"
     ]
    }
   ],
   "source": [
    "print(ID_pages['グーグル'])\n",
    "print(ID_pages['渋谷'])"
   ]
  },
  {
   "cell_type": "markdown",
   "metadata": {},
   "source": [
    "### Find Paths from Google to Shibuya\n",
    "\n",
    "#### Need to make nodes"
   ]
  },
  {
   "cell_type": "code",
   "execution_count": 19,
   "metadata": {},
   "outputs": [],
   "source": [
    "def find_shortest_distance2(root,target):\n",
    "    dis = {}\n",
    "    for key in ID_pages.keys():\n",
    "        dis[key] = float('inf')\n",
    "    visited = set()\n",
    "    r_key = ID_pages[root]\n",
    "    dis[r_key] = 0\n",
    "    que = deque()\n",
    "    que.append(r_key)\n",
    "    while que:\n",
    "        current = que.popleft() # previous level \n",
    "#         print(current, dis[current])\n",
    "        for i in adj_list_links[current]: # current level\n",
    "            if i not in visited:\n",
    "                visited.add(i)\n",
    "                dis[i] = dis[current] + 1\n",
    "                que.append(i)\n",
    "    id1 = ID_pages[target]\n",
    "    shortest_dis = dis[id1]\n",
    "    if shortest_dis == float('inf'):\n",
    "        return 'No way to access'\n",
    "    else:\n",
    "        return shortest_dis"
   ]
  },
  {
   "cell_type": "code",
   "execution_count": 20,
   "metadata": {},
   "outputs": [
    {
     "data": {
      "text/plain": [
       "1"
      ]
     },
     "execution_count": 20,
     "metadata": {},
     "output_type": "execute_result"
    }
   ],
   "source": [
    "find_shortest_distance2('渋谷','GALS!')"
   ]
  },
  {
   "cell_type": "code",
   "execution_count": null,
   "metadata": {},
   "outputs": [],
   "source": [
    "def find_keys2(string):\n",
    "    names = [name for key, name in pages if key == string]\n",
    "    return names[0]"
   ]
  },
  {
   "cell_type": "code",
   "execution_count": null,
   "metadata": {},
   "outputs": [],
   "source": [
    "find_keys2('110117')"
   ]
  },
  {
   "cell_type": "markdown",
   "metadata": {},
   "source": [
    "# find isolated node"
   ]
  },
  {
   "cell_type": "code",
   "execution_count": 39,
   "metadata": {},
   "outputs": [
    {
     "name": "stdout",
     "output_type": "stream",
     "text": [
      "1482292\n"
     ]
    },
    {
     "ename": "KeyError",
     "evalue": "''",
     "output_type": "error",
     "traceback": [
      "\u001b[0;31m---------------------------------------------------------------------------\u001b[0m",
      "\u001b[0;31mKeyError\u001b[0m                                  Traceback (most recent call last)",
      "\u001b[0;32m<ipython-input-39-0fcea6778d8d>\u001b[0m in \u001b[0;36m<module>\u001b[0;34m\u001b[0m\n\u001b[1;32m     30\u001b[0m \u001b[0;32mfor\u001b[0m \u001b[0mi\u001b[0m \u001b[0;32min\u001b[0m \u001b[0mi_list\u001b[0m\u001b[0;34m:\u001b[0m\u001b[0;34m\u001b[0m\u001b[0;34m\u001b[0m\u001b[0m\n\u001b[1;32m     31\u001b[0m     \u001b[0;32mif\u001b[0m \u001b[0mi\u001b[0m \u001b[0;32min\u001b[0m \u001b[0mcheck_set\u001b[0m\u001b[0;34m:\u001b[0m\u001b[0;34m\u001b[0m\u001b[0;34m\u001b[0m\u001b[0m\n\u001b[0;32m---> 32\u001b[0;31m         \u001b[0mfind_shortest_distance3\u001b[0m\u001b[0;34m(\u001b[0m\u001b[0mi\u001b[0m\u001b[0;34m)\u001b[0m\u001b[0;34m\u001b[0m\u001b[0;34m\u001b[0m\u001b[0m\n\u001b[0m\u001b[1;32m     33\u001b[0m \u001b[0;34m\u001b[0m\u001b[0m\n\u001b[1;32m     34\u001b[0m \u001b[0mprint\u001b[0m\u001b[0;34m(\u001b[0m\u001b[0;34m'isolated nodes are:'\u001b[0m\u001b[0;34m,\u001b[0m \u001b[0mlen\u001b[0m\u001b[0;34m(\u001b[0m\u001b[0mcheck_set\u001b[0m\u001b[0;34m)\u001b[0m\u001b[0;34m)\u001b[0m\u001b[0;34m\u001b[0m\u001b[0;34m\u001b[0m\u001b[0m\n",
      "\u001b[0;32m<ipython-input-39-0fcea6778d8d>\u001b[0m in \u001b[0;36mfind_shortest_distance3\u001b[0;34m(r_key)\u001b[0m\n\u001b[1;32m     18\u001b[0m                 \u001b[0;32mif\u001b[0m \u001b[0mi\u001b[0m \u001b[0;32mnot\u001b[0m \u001b[0;32min\u001b[0m \u001b[0mvisited\u001b[0m\u001b[0;34m:\u001b[0m\u001b[0;34m\u001b[0m\u001b[0;34m\u001b[0m\u001b[0m\n\u001b[1;32m     19\u001b[0m                     \u001b[0mvisited\u001b[0m\u001b[0;34m.\u001b[0m\u001b[0madd\u001b[0m\u001b[0;34m(\u001b[0m\u001b[0mi\u001b[0m\u001b[0;34m)\u001b[0m\u001b[0;34m\u001b[0m\u001b[0;34m\u001b[0m\u001b[0m\n\u001b[0;32m---> 20\u001b[0;31m                     \u001b[0mcheck_set\u001b[0m\u001b[0;34m.\u001b[0m\u001b[0mremove\u001b[0m\u001b[0;34m(\u001b[0m\u001b[0mi\u001b[0m\u001b[0;34m)\u001b[0m\u001b[0;34m\u001b[0m\u001b[0;34m\u001b[0m\u001b[0m\n\u001b[0m\u001b[1;32m     21\u001b[0m \u001b[0;31m#                     dis[i] = dis[current] + 1\u001b[0m\u001b[0;34m\u001b[0m\u001b[0;34m\u001b[0m\u001b[0;34m\u001b[0m\u001b[0m\n\u001b[1;32m     22\u001b[0m                     \u001b[0mque\u001b[0m\u001b[0;34m.\u001b[0m\u001b[0mappend\u001b[0m\u001b[0;34m(\u001b[0m\u001b[0mi\u001b[0m\u001b[0;34m)\u001b[0m\u001b[0;34m\u001b[0m\u001b[0;34m\u001b[0m\u001b[0m\n",
      "\u001b[0;31mKeyError\u001b[0m: ''"
     ]
    }
   ],
   "source": [
    "i_list = sorted(ID_pages.values())\n",
    "check_set = set(i_list)\n",
    "\n",
    "def find_shortest_distance3(r_key):\n",
    "    dis = {}\n",
    "    for key in ID_pages.keys():\n",
    "        dis[key] = float('inf')\n",
    "    visited = set()\n",
    "#     r_key = ID_pages[root]\n",
    "    dis[r_key] = 0\n",
    "    que = deque()\n",
    "    que.append(r_key)\n",
    "    while que:\n",
    "        current = que.popleft() # previous level \n",
    "#         print(current, dis[current])\n",
    "        if current in adj_list_links.keys() and adj_list_links[current]:\n",
    "            for i in adj_list_links[current]: # current level\n",
    "                if i not in visited:\n",
    "                    visited.add(i)\n",
    "                    check_set.remove(i)\n",
    "#                     dis[i] = dis[current] + 1\n",
    "                    que.append(i)\n",
    "#     for i in dis.keys(): # i : 'afafd'\n",
    "#         if i in check_set:\n",
    "#             check_set.remove(i)\n",
    "#         else:\n",
    "#             continue\n",
    "\n",
    "print(len(check_set))\n",
    "for i in i_list:\n",
    "    if i in check_set:\n",
    "        find_shortest_distance3(i)\n",
    "    \n",
    "print('isolated nodes are:', len(check_set))"
   ]
  },
  {
   "cell_type": "code",
   "execution_count": null,
   "metadata": {},
   "outputs": [],
   "source": []
  }
 ],
 "metadata": {
  "kernelspec": {
   "display_name": "Python 3",
   "language": "python",
   "name": "python3"
  },
  "language_info": {
   "codemirror_mode": {
    "name": "ipython",
    "version": 3
   },
   "file_extension": ".py",
   "mimetype": "text/x-python",
   "name": "python",
   "nbconvert_exporter": "python",
   "pygments_lexer": "ipython3",
   "version": "3.7.3"
  }
 },
 "nbformat": 4,
 "nbformat_minor": 2
}
