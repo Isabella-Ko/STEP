{
 "cells": [
  {
   "cell_type": "markdown",
   "metadata": {},
   "source": [
    "# Q1 Preprocessing"
   ]
  },
  {
   "cell_type": "code",
   "execution_count": 2,
   "metadata": {},
   "outputs": [
    {
     "name": "stdout",
     "output_type": "stream",
     "text": [
      "[['1', '29'], ['1', '31'], ['1', '10'], ['1', '18'], ['1', '26'], ['1', '40'], ['1', '3'], ['2', '15'], ['2', '39'], ['2', '14'], ['3', '29'], ['3', '49'], ['3', '31'], ['3', '10'], ['3', '1'], ['3', '18'], ['3', '26'], ['3', '40'], ['4', '29'], ['4', '53'], ['4', '35'], ['4', '38'], ['4', '20'], ['5', '44'], ['5', '36'], ['5', '19'], ['5', '33'], ['7', '26'], ['7', '17'], ['7', '12'], ['7', '52'], ['7', '9'], ['8', '29'], ['8', '49'], ['8', '24'], ['8', '25'], ['8', '26'], ['8', '46'], ['8', '3'], ['8', '22'], ['8', '28'], ['9', '7'], ['9', '26'], ['9', '17'], ['9', '12'], ['9', '52'], ['10', '29'], ['10', '49'], ['10', '1'], ['10', '55'], ['10', '18'], ['10', '26'], ['10', '40'], ['10', '3'], ['10', '21'], ['11', '49'], ['12', '26'], ['12', '17'], ['12', '3'], ['12', '52'], ['12', '9'], ['14', '29'], ['14', '15'], ['14', '2'], ['14', '26'], ['14', '40'], ['14', '39'], ['15', '2'], ['15', '1'], ['15', '26'], ['15', '40'], ['15', '3'], ['15', '39'], ['15', '14'], ['16', '31'], ['16', '23'], ['16', '26'], ['17', '7'], ['17', '44'], ['17', '26'], ['17', '52'], ['18', '29'], ['18', '10'], ['18', '1'], ['18', '40'], ['18', '3'], ['19', '44'], ['19', '34'], ['19', '5'], ['20', '29'], ['20', '1'], ['20', '4'], ['20', '45'], ['20', '35'], ['20', '38'], ['21', '49'], ['21', '7'], ['21', '10'], ['21', '45'], ['21', '27'], ['21', '25'], ['21', '26'], ['22', '45'], ['22', '26'], ['22', '8'], ['23', '16'], ['23', '31'], ['23', '26'], ['24', '49'], ['24', '1'], ['24', '25'], ['24', '26'], ['24', '46'], ['24', '8'], ['24', '28'], ['25', '24'], ['25', '46'], ['25', '8'], ['25', '28'], ['26', '10'], ['26', '24'], ['26', '27'], ['27', '7'], ['27', '26'], ['27', '22'], ['28', '24'], ['28', '25'], ['28', '26'], ['28', '46'], ['28', '8'], ['29', '10'], ['29', '44'], ['29', '36'], ['29', '18'], ['29', '26'], ['29', '40'], ['29', '3'], ['29', '38'], ['29', '20'], ['31', '16'], ['31', '7'], ['31', '1'], ['31', '23'], ['31', '26'], ['31', '46'], ['31', '3'], ['32', '56'], ['32', '34'], ['32', '26'], ['32', '37'], ['32', '48'], ['33', '1'], ['33', '44'], ['33', '24'], ['33', '5'], ['33', '36'], ['33', '26'], ['34', '56'], ['34', '32'], ['34', '37'], ['34', '48'], ['35', '4'], ['35', '26'], ['35', '38'], ['35', '20'], ['36', '29'], ['36', '44'], ['36', '5'], ['36', '26'], ['36', '33'], ['37', '56'], ['37', '34'], ['37', '32'], ['37', '48'], ['38', '29'], ['38', '49'], ['38', '31'], ['38', '10'], ['38', '4'], ['38', '35'], ['38', '26'], ['38', '20'], ['39', '15'], ['39', '2'], ['39', '25'], ['39', '14'], ['40', '29'], ['40', '10'], ['40', '1'], ['40', '18'], ['40', '26'], ['40', '3'], ['44', '29'], ['44', '5'], ['44', '36'], ['44', '17'], ['44', '33'], ['45', '49'], ['45', '22'], ['45', '21'], ['46', '49'], ['46', '7'], ['46', '31'], ['46', '10'], ['46', '1'], ['46', '24'], ['46', '27'], ['46', '25'], ['46', '26'], ['46', '8'], ['46', '28'], ['48', '34'], ['48', '32'], ['48', '26'], ['48', '37'], ['49', '7'], ['49', '45'], ['49', '26'], ['50', '49'], ['52', '7'], ['52', '26'], ['52', '17'], ['52', '12'], ['52', '9'], ['53', '49'], ['53', '1'], ['53', '46'], ['53', '22'], ['54', '10'], ['54', '30'], ['54', '53'], ['55', '10'], ['56', '34'], ['56', '32'], ['56', '37'], ['56', '48']]\n",
      "-----Adjacency list------\n",
      "{'1': ['29', '31', '10', '18', '26', '40', '3'], '2': ['15', '39', '14'], '3': ['29', '49', '31', '10', '1', '18', '26', '40'], '4': ['29', '53', '35', '38', '20'], '5': ['44', '36', '19', '33'], '7': ['26', '17', '12', '52', '9'], '8': ['29', '49', '24', '25', '26', '46', '3', '22', '28'], '9': ['7', '26', '17', '12', '52'], '10': ['29', '49', '1', '55', '18', '26', '40', '3', '21'], '11': ['49'], '12': ['26', '17', '3', '52', '9'], '14': ['29', '15', '2', '26', '40', '39'], '15': ['2', '1', '26', '40', '3', '39', '14'], '16': ['31', '23', '26'], '17': ['7', '44', '26', '52'], '18': ['29', '10', '1', '40', '3'], '19': ['44', '34', '5'], '20': ['29', '1', '4', '45', '35', '38'], '21': ['49', '7', '10', '45', '27', '25', '26'], '22': ['45', '26', '8'], '23': ['16', '31', '26'], '24': ['49', '1', '25', '26', '46', '8', '28'], '25': ['24', '46', '8', '28'], '26': ['10', '24', '27'], '27': ['7', '26', '22'], '28': ['24', '25', '26', '46', '8'], '29': ['10', '44', '36', '18', '26', '40', '3', '38', '20'], '31': ['16', '7', '1', '23', '26', '46', '3'], '32': ['56', '34', '26', '37', '48'], '33': ['1', '44', '24', '5', '36', '26'], '34': ['56', '32', '37', '48'], '35': ['4', '26', '38', '20'], '36': ['29', '44', '5', '26', '33'], '37': ['56', '34', '32', '48'], '38': ['29', '49', '31', '10', '4', '35', '26', '20'], '39': ['15', '2', '25', '14'], '40': ['29', '10', '1', '18', '26', '3'], '44': ['29', '5', '36', '17', '33'], '45': ['49', '22', '21'], '46': ['49', '7', '31', '10', '1', '24', '27', '25', '26', '8', '28'], '48': ['34', '32', '26', '37'], '49': ['7', '45', '26'], '50': ['49'], '52': ['7', '26', '17', '12', '9'], '53': ['49', '1', '46', '22'], '54': ['10', '30', '53'], '55': ['10'], '56': ['34', '32', '37', '48']}\n"
     ]
    }
   ],
   "source": [
    "fromID_ToID = []\n",
    "with open('FromID and ToID.txt','r') as f1:\n",
    "    d = f1.read().splitlines()\n",
    "    for i in d:\n",
    "        c = i.split('\\t')\n",
    "        fromID_ToID.append(c)\n",
    "        \n",
    "#     print(d)\n",
    "    fromID_ToID.pop()\n",
    "    print(fromID_ToID)\n",
    "    \n",
    "adj_list_fromID_ToID = {}\n",
    "for i in fromID_ToID:\n",
    "    if i[0] not in adj_list_fromID_ToID:\n",
    "        adj_list_fromID_ToID[i[0]] = [i[1]]\n",
    "    else:\n",
    "        adj_list_fromID_ToID[i[0]].append(i[1])\n",
    "print('-----Adjacency list------')\n",
    "print(adj_list_fromID_ToID)\n"
   ]
  },
  {
   "cell_type": "code",
   "execution_count": 3,
   "metadata": {
    "scrolled": false
   },
   "outputs": [
    {
     "name": "stdout",
     "output_type": "stream",
     "text": [
      "jason\n",
      "[['0', 'alberto'], ['1', 'alex'], ['2', 'amy'], ['3', 'andy'], ['4', 'anthony'], ['5', 'billy'], ['6', 'bradley'], ['7', 'carlos'], ['8', 'carolyn'], ['9', 'cheryl'], ['10', 'clayton'], ['11', 'cody'], ['12', 'craig'], ['13', 'danny'], ['14', 'daryl'], ['15', 'derrick'], ['16', 'dwight'], ['17', 'elmer'], ['18', 'erik'], ['19', 'fernando'], ['20', 'floyd'], ['21', 'gilbert'], ['22', 'harry'], ['23', 'harvey'], ['24', 'isaac'], ['25', 'jack'], ['26', 'jacob'], ['27', 'jacqueline'], ['28', 'jason'], ['29', 'john'], ['30', 'jorge'], ['31', 'joyce'], ['32', 'karl'], ['33', 'kayla'], ['34', 'kenneth'], ['35', 'kent'], ['36', 'marcus'], ['37', 'marshall'], ['38', 'melvin'], ['39', 'mike'], ['40', 'nancy'], ['41', 'nicole'], ['42', 'ray'], ['43', 'ricardo'], ['44', 'ricky'], ['45', 'roland'], ['46', 'ryan'], ['47', 'scott'], ['48', 'sean'], ['49', 'sergio'], ['50', 'stephen'], ['51', 'theresa'], ['52', 'tom'], ['53', 'tommy'], ['54', 'tracy'], ['55', 'victoria'], ['56', 'vincent']]\n",
      "---------------\n",
      "{'alberto': '0', 'alex': '1', 'amy': '2', 'andy': '3', 'anthony': '4', 'billy': '5', 'bradley': '6', 'carlos': '7', 'carolyn': '8', 'cheryl': '9', 'clayton': '10', 'cody': '11', 'craig': '12', 'danny': '13', 'daryl': '14', 'derrick': '15', 'dwight': '16', 'elmer': '17', 'erik': '18', 'fernando': '19', 'floyd': '20', 'gilbert': '21', 'harry': '22', 'harvey': '23', 'isaac': '24', 'jack': '25', 'jacob': '26', 'jacqueline': '27', 'jason': '28', 'john': '29', 'jorge': '30', 'joyce': '31', 'karl': '32', 'kayla': '33', 'kenneth': '34', 'kent': '35', 'marcus': '36', 'marshall': '37', 'melvin': '38', 'mike': '39', 'nancy': '40', 'nicole': '41', 'ray': '42', 'ricardo': '43', 'ricky': '44', 'roland': '45', 'ryan': '46', 'scott': '47', 'sean': '48', 'sergio': '49', 'stephen': '50', 'theresa': '51', 'tom': '52', 'tommy': '53', 'tracy': '54', 'victoria': '55', 'vincent': '56'}\n"
     ]
    }
   ],
   "source": [
    "z1 = []\n",
    "with open('ID and Nickname.txt','r') as f2:\n",
    "    z = f2.read().splitlines()\n",
    "    for i in z:\n",
    "        c = i.split('\\t')\n",
    "        z1.append(c)\n",
    "\n",
    "def find_keys(string):\n",
    "    names = [name for key, name in z1 if key == string]\n",
    "    return names[0]\n",
    "\n",
    "print(find_keys('28'))\n",
    "    \n",
    "    \n",
    "#     print(z)\n",
    "print(z1)\n",
    "ID_Nickname = {}\n",
    "for i in z1:\n",
    "    ID_Nickname[i[1]] = i[0]\n",
    "print('---------------')\n",
    "print(ID_Nickname)\n",
    "    "
   ]
  },
  {
   "cell_type": "markdown",
   "metadata": {},
   "source": [
    "# Shortest path through BFS"
   ]
  },
  {
   "cell_type": "markdown",
   "metadata": {},
   "source": [
    "- The BFS tree"
   ]
  },
  {
   "cell_type": "code",
   "execution_count": 5,
   "metadata": {},
   "outputs": [
    {
     "data": {
      "text/plain": [
       "['24', '25', '26', '46', '8']"
      ]
     },
     "execution_count": 5,
     "metadata": {},
     "output_type": "execute_result"
    }
   ],
   "source": [
    "def get_neighbours(name):\n",
    "    return [i for i in adj_list_fromID_ToID[ID_Nickname[name]]]\n",
    "get_neighbours('jason')"
   ]
  },
  {
   "cell_type": "code",
   "execution_count": 6,
   "metadata": {},
   "outputs": [
    {
     "data": {
      "text/plain": [
       "['10', '24', '27']"
      ]
     },
     "execution_count": 6,
     "metadata": {},
     "output_type": "execute_result"
    }
   ],
   "source": [
    "adj_list_fromID_ToID['26']"
   ]
  },
  {
   "cell_type": "code",
   "execution_count": 7,
   "metadata": {},
   "outputs": [
    {
     "data": {
      "text/plain": [
       "['7', '26', '22']"
      ]
     },
     "execution_count": 7,
     "metadata": {},
     "output_type": "execute_result"
    }
   ],
   "source": [
    "adj_list_fromID_ToID['27']"
   ]
  },
  {
   "cell_type": "code",
   "execution_count": 47,
   "metadata": {},
   "outputs": [
    {
     "name": "stdout",
     "output_type": "stream",
     "text": [
      "26 0\n",
      "10 1\n",
      "24 1\n",
      "27 1\n",
      "29 2\n",
      "49 2\n",
      "1 2\n",
      "55 2\n",
      "18 2\n",
      "26 2\n",
      "40 2\n",
      "3 2\n",
      "21 2\n",
      "25 2\n",
      "46 2\n",
      "8 2\n",
      "28 2\n",
      "7 2\n",
      "22 2\n",
      "44 3\n",
      "36 3\n",
      "38 3\n",
      "20 3\n",
      "45 3\n",
      "31 3\n",
      "17 3\n",
      "12 3\n",
      "52 3\n",
      "9 3\n",
      "5 4\n",
      "33 4\n",
      "4 4\n",
      "35 4\n",
      "16 4\n",
      "23 4\n",
      "19 5\n",
      "53 5\n",
      "34 6\n",
      "56 7\n",
      "32 7\n",
      "37 7\n",
      "48 7\n",
      "The shortest distance from jacob to jason is: 2\n"
     ]
    }
   ],
   "source": [
    "from collections import deque\n",
    "def find_shortest_distance(root,target):\n",
    "    dis = {}\n",
    "    visited = set()\n",
    "    r_key = ID_Nickname[root]\n",
    "    dis[r_key] = 0\n",
    "    que = deque()\n",
    "    que.append(r_key)\n",
    "    while que:\n",
    "        current = que.popleft() # previous level \n",
    "        print(current, dis[current])\n",
    "        for i in adj_list_fromID_ToID[current]: # current level\n",
    "            if i not in visited:\n",
    "                visited.add(i)\n",
    "                dis[i] = dis[current] + 1\n",
    "                que.append(i)\n",
    "    shortest_dis = dis[ID_Nickname[target]]\n",
    "    return shortest_dis\n",
    "    \n",
    "print('The shortest distance from jacob to jason is:', find_shortest_distance('jacob','jason'))\n",
    "\n",
    "    "
   ]
  },
  {
   "cell_type": "markdown",
   "metadata": {},
   "source": [
    "# Close Friends\n",
    "- Both follow each other ex.A<-->B"
   ]
  },
  {
   "cell_type": "code",
   "execution_count": 9,
   "metadata": {},
   "outputs": [
    {
     "name": "stdout",
     "output_type": "stream",
     "text": [
      "Close friends are: \n",
      " [['alex', 'joyce'], ['alex', 'clayton'], ['alex', 'erik'], ['alex', 'nancy'], ['alex', 'andy'], ['amy', 'derrick'], ['amy', 'mike'], ['amy', 'daryl'], ['andy', 'john'], ['andy', 'joyce'], ['andy', 'clayton'], ['andy', 'alex'], ['andy', 'erik'], ['andy', 'nancy'], ['anthony', 'kent'], ['anthony', 'melvin'], ['anthony', 'floyd'], ['billy', 'ricky'], ['billy', 'marcus'], ['billy', 'fernando'], ['billy', 'kayla'], ['carlos', 'elmer'], ['carlos', 'tom'], ['carlos', 'cheryl'], ['carolyn', 'isaac'], ['carolyn', 'jack'], ['carolyn', 'ryan'], ['carolyn', 'harry'], ['carolyn', 'jason'], ['cheryl', 'carlos'], ['cheryl', 'craig'], ['cheryl', 'tom'], ['clayton', 'john'], ['clayton', 'alex'], ['clayton', 'victoria'], ['clayton', 'erik'], ['clayton', 'jacob'], ['clayton', 'nancy'], ['clayton', 'andy'], ['clayton', 'gilbert'], ['craig', 'tom'], ['craig', 'cheryl'], ['daryl', 'derrick'], ['daryl', 'amy'], ['daryl', 'mike'], ['derrick', 'amy'], ['derrick', 'mike'], ['derrick', 'daryl'], ['dwight', 'joyce'], ['dwight', 'harvey'], ['elmer', 'carlos'], ['elmer', 'ricky'], ['elmer', 'tom'], ['erik', 'john'], ['erik', 'clayton'], ['erik', 'alex'], ['erik', 'nancy'], ['erik', 'andy'], ['fernando', 'billy'], ['floyd', 'john'], ['floyd', 'anthony'], ['floyd', 'kent'], ['floyd', 'melvin'], ['gilbert', 'clayton'], ['gilbert', 'roland'], ['harry', 'roland'], ['harry', 'carolyn'], ['harvey', 'dwight'], ['harvey', 'joyce'], ['isaac', 'jack'], ['isaac', 'jacob'], ['isaac', 'ryan'], ['isaac', 'carolyn'], ['isaac', 'jason'], ['jack', 'isaac'], ['jack', 'ryan'], ['jack', 'carolyn'], ['jack', 'jason'], ['jacob', 'clayton'], ['jacob', 'isaac'], ['jacob', 'jacqueline'], ['jacqueline', 'jacob'], ['jason', 'isaac'], ['jason', 'jack'], ['jason', 'ryan'], ['jason', 'carolyn'], ['john', 'clayton'], ['john', 'ricky'], ['john', 'marcus'], ['john', 'erik'], ['john', 'nancy'], ['john', 'andy'], ['john', 'melvin'], ['john', 'floyd'], ['joyce', 'dwight'], ['joyce', 'alex'], ['joyce', 'harvey'], ['joyce', 'ryan'], ['joyce', 'andy'], ['karl', 'vincent'], ['karl', 'kenneth'], ['karl', 'marshall'], ['karl', 'sean'], ['kayla', 'ricky'], ['kayla', 'billy'], ['kayla', 'marcus'], ['kenneth', 'vincent'], ['kenneth', 'karl'], ['kenneth', 'marshall'], ['kenneth', 'sean'], ['kent', 'anthony'], ['kent', 'melvin'], ['kent', 'floyd'], ['marcus', 'john'], ['marcus', 'ricky'], ['marcus', 'billy'], ['marcus', 'kayla'], ['marshall', 'vincent'], ['marshall', 'kenneth'], ['marshall', 'karl'], ['marshall', 'sean'], ['melvin', 'john'], ['melvin', 'anthony'], ['melvin', 'kent'], ['melvin', 'floyd'], ['mike', 'derrick'], ['mike', 'amy'], ['mike', 'daryl'], ['nancy', 'john'], ['nancy', 'clayton'], ['nancy', 'alex'], ['nancy', 'erik'], ['nancy', 'andy'], ['ricky', 'john'], ['ricky', 'billy'], ['ricky', 'marcus'], ['ricky', 'elmer'], ['ricky', 'kayla'], ['roland', 'sergio'], ['roland', 'harry'], ['roland', 'gilbert'], ['ryan', 'joyce'], ['ryan', 'isaac'], ['ryan', 'jack'], ['ryan', 'carolyn'], ['ryan', 'jason'], ['sean', 'kenneth'], ['sean', 'karl'], ['sean', 'marshall'], ['sergio', 'roland'], ['tom', 'carlos'], ['tom', 'elmer'], ['tom', 'craig'], ['tom', 'cheryl'], ['victoria', 'clayton'], ['vincent', 'kenneth'], ['vincent', 'karl'], ['vincent', 'marshall']]\n"
     ]
    }
   ],
   "source": [
    "close_friends = []\n",
    "for key in adj_list_fromID_ToID:\n",
    "    for i in adj_list_fromID_ToID[key]:\n",
    "        if i in adj_list_fromID_ToID.keys():\n",
    "            if key in adj_list_fromID_ToID[i]:\n",
    "                close_friends.append([key, i])\n",
    "close_friends_name = []\n",
    "for i,j in close_friends:\n",
    "    i_name = find_keys(i)\n",
    "    j_name = find_keys(j)\n",
    "    close_friends_name.append([i_name, j_name])\n",
    "        \n",
    "print('Close friends are:', '\\n',close_friends_name)\n",
    "            "
   ]
  },
  {
   "cell_type": "markdown",
   "metadata": {},
   "source": [
    "# Furthest Relationship\n",
    "- The furthest path from jacob to reach out."
   ]
  },
  {
   "cell_type": "code",
   "execution_count": 57,
   "metadata": {},
   "outputs": [],
   "source": [
    "def find_furthest_distance(root):\n",
    "    dis = {}\n",
    "    visited = set()\n",
    "    r_key = ID_Nickname[root]\n",
    "    dis[r_key] = 0\n",
    "    que = deque()\n",
    "    que.append(r_key)\n",
    "    while que:\n",
    "        current = que.popleft() # previous level \n",
    "        for i in adj_list_fromID_ToID[current]: # current level\n",
    "            if i not in visited:\n",
    "                visited.add(i)\n",
    "                dis[i] = dis[current] + 1\n",
    "                que.append(i)\n",
    "    find_max = [(key,values) for key, values in dis.items()]\n",
    "    s_find_max = sorted(find_max, key=lambda x: x[1])\n",
    "    g_max = s_find_max[-1][1]\n",
    "    ans = []\n",
    "    for i in range(len(s_find_max)-1, -1, -1):\n",
    "        if s_find_max[i][1] == g_max:\n",
    "            ans.append(s_find_max[i])\n",
    "        else: \n",
    "            break\n",
    "    return ans, g_max"
   ]
  },
  {
   "cell_type": "code",
   "execution_count": 58,
   "metadata": {},
   "outputs": [
    {
     "name": "stdout",
     "output_type": "stream",
     "text": [
      "7 [('48', 7), ('37', 7), ('32', 7), ('56', 7)]\n"
     ]
    }
   ],
   "source": [
    "ls, max_dist = find_furthest_distance('jacob')\n",
    "print(max_dist, ls)"
   ]
  },
  {
   "cell_type": "markdown",
   "metadata": {},
   "source": [
    "# Q2"
   ]
  },
  {
   "cell_type": "markdown",
   "metadata": {},
   "source": [
    "## Preprocessing"
   ]
  },
  {
   "cell_type": "code",
   "execution_count": 10,
   "metadata": {},
   "outputs": [
    {
     "name": "stdout",
     "output_type": "stream",
     "text": [
      "[['0', '284171'], ['0', '955'], ['0', '591'], ['0', '1098'], ['0', '6472'], ['0', '4189'], ['0', '529843'], ['0', '2369'], ['0', '890307'], ['0', '1299']]\n",
      "-----Adjacency list------\n"
     ]
    }
   ],
   "source": [
    "links = []\n",
    "with open('links.txt','r') as l:\n",
    "    da = l.read().splitlines()\n",
    "    for i in da:\n",
    "        c = i.split('\\t')\n",
    "        links.append(c)\n",
    "\n",
    "    print(links[0:10])\n",
    "    \n",
    "adj_list_links = {}\n",
    "for i in links:\n",
    "    if i[1] == '':\n",
    "        continue\n",
    "    if i[0] not in adj_list_links:\n",
    "        adj_list_links[i[0]] = [i[1]]\n",
    "    else:\n",
    "        adj_list_links[i[0]].append(i[1])\n",
    "    if i[1] not in adj_list_links:\n",
    "        adj_list_links[i[1]] = []\n",
    "print('-----Adjacency list------')\n",
    "# print(adj_list_links)\n"
   ]
  },
  {
   "cell_type": "code",
   "execution_count": 12,
   "metadata": {},
   "outputs": [
    {
     "name": "stdout",
     "output_type": "stream",
     "text": [
      "Finished\n",
      "['Cascading_Style_Sheets', 'C_Sharp', 'Shift_JIS', 'Secure_Shell', 'Shell', 'Shift_JISX0213', 'Shock_Wave_Flash', 'Shade', 'Osaka_Shion_Wind_Orchestra', 'Ghost_in_the_Shell', 'Shuzo_Azuchi_Gulliver', 'Fiat-Shamirヒューリスティック', 'WinShell', 'SpaceShipOne', 'International_Herald_Tribune/The_Asahi_Shimbun', 'Planet_Shining', 'Shibuya_O-EAST', 'Shift-JIS', 'Sh', 'Shake', 'The_Nutty_Radio_Show_おに魂', 'Shingo', 'BShi', 'Shinya', 'Shy', 'Shiina', 'Z_Shell', 'FM_Radio_Shopping', 'Air_Precision_Shooting', 'Shall_we_ダンス?', 'Shall_We_Dance?', 'Sh15uya', 'Corel_Paint_Shop_Pro', 'TENEX_C_Shell', 'Shift-jis', 'Shift_jis', 'Shoegazer', 'PPSh-41', 'Shakedown', 'Shareaza', 'Shamardal', 'Shh', 'Showgate_RADIO', 'Sketch_Show', 'Share_(ソフトウェア)', 'FlyingShine', 'ルパン三世_(Shusay版)', 'TOYOTA_Presents_片山右京のShall_We_Drive?〜ドライブしようよ!〜', 'Open_Shortest_Path_First', 'Shell_Sound_Ignition', 'Captain_of_the_Ship', 'Shuttle_Radar_Topography_Mission', 'C_Shell', 'Korn_Shell', 'Shuffle!', 'Interstage_Shunsaku_Data_Manager', 'Shizuoka.jp', 'Shiga.jp', 'Shimane.jp', 'MUHShield', 'Shuzilow.HA', 'Shout!', 'Open_Secure_Shell', 'Phase_Shift_Keying_31_Baud', 'Cyber-Shot', 'MS-DOS_Shell', 'Pet_Shop_Boys', 'PetShopBoys', 'Bourne_Shell', 'Shunn', 'YamoShim', 'Shining_eyes', 'Real_Thing_Shakes', 'Shalala_キボウの歌', 'Shalalaキボウの歌', 'DirectShow_Media', 'DVD_Shrink', 'DJ_Shufflemaster', 'Shake_It_Up_(倖田來未の曲)', 'Wings_of_Winter,_Shades_of_Summer', 'Ipod_Shuffle', 'GAKU-Shock', 'Shiho', 'Shockwave_Flash', 'Apple_Shake', 'Shinobi', '忍-Shinobi-', 'Shelf', 'Shibuya_O-WEST', 'Shake_Hip!_(Ishii_Version)', 'The_Eminem_Show', 'She\\\\', 'Time_Sharing_Option', 'V-air_EVENING_Radio_Show_PLEASURE×PLEASURE', 'Shing02', 'Maher_Shalal_Hash_Baz', 'シュパーギンPPSh41短機関銃', '東方文花帖_〜_Shoot_the_Bullet.', 'CyberShot', 'Shop99', 'The_Sharp', '片山右京のShall_We_Drive?～ドライブしようよ!～', '片山右京のShall_We_Drive', '片山右京のShall_We_Drive?', 'I_Want_You_(She\\\\', 'Microsoft_SharePoint_Designer', 'Share', 'The_History_of_Shogo_Hamada_\\\\\"Since1975\\\\\"', 'Shallow_Sleep', 'Windows_Live_Shopping', 'PowerShot_SD700_IS_Digital_ELPH', 'Short_Circuit', 'Sharp_V201SH', 'Sharp_V302SH', 'Sharp_SH901iS', 'Sharp_SH901iC', 'Sharp_SH900i', 'Sharp_SH700i', 'Sharp_J-SH53', 'Sharp_V403SH', 'Sharp_V601SH', 'Sharp_V501SH', 'Sharp_V801SH', 'Sharp_V604SH', 'Sharp_V603SH', 'Sharp_V602SH', 'Sherwood_Rowland', 'Shall_We_Dance', 'Sharp_Auvi', 'IPod_Shuffle', 'Shibuya_O-Crest', 'Shibuya_O-CREST', 'Shibuya_O-nest', 'Shibuya_O-NEST', 'StickShot', '螢火/Show_Time', 'Shop_Magnifica', '蛍火/Show_Time', 'One_Show', 'Bathtub_Shitter', 'Shakespeare_(プログラミング言語)', 'SafetyShoes', 'Dream_Drive/Shut_Out', 'Shake_Hip!', 'Shpongle', 'DJ_Shadow', 'Cascading_Style_Sheet', 'Shungo.', 'DShK38重機関銃', 'Nuts_Melon_Show!', 'Cat_Shit_One', 'Shibuya_eggman', 'Shangri-La_(電気グルーヴの曲)', 'The_QuizMan_Show', 'Active_Virus_Shield', 'Electric_Eel_Shock', 'Shuriken', 'Over_Shine', 'The_New_Tom_and_Jerry_Show', 'Delicious!〜The_Best_of_Hitomi_Shimatani〜', 'Workplace_Shell', 'Shift_JIS-2004', 'She_loves_you_(渡辺美里のアルバム)', 'Shall_we_ダンス', 'Shabon_songs', 'Sh15uya_-シブヤフィフティーン-', 'Shut_Up', 'Shaman', 'Park_city_Shinkawasaki', 'InstallShield', 'Shallweダンス', 'A_Tribute_to_Shonen_Knife_-_Fork_and_Spoon', 'Sha_la_la_-アヤカシNIGHT-', 'And_She_Said', 'Kula_Shaker', 'Microsoft_Visual_C_Sharp', 'SHOCK_is_Real_Shock', 'Shocking_SHOCK', 'Show劇・SHOCK', 'SHOCK～is_Real_Shock～', 'SHOCK-is_Real_Shock-', 'Radio_Magazine_Playland_Shiga', 'Shockwave', 'Adobe_Shockwave', 'Shine_We_Are!', 'Shine_We_Are', 'Shio', 'Shiena', 'Shapes_Of_Love/Never_Stop!', 'Shine', 'Shibuya_Deep_A', 'Shining_Star_☆忘れないから☆', 'C_SharpとJavaの比較', 'Shuji', 'Shadow_of_Memories', 'Shadow_of_memories', 'Sherbet_Snow_and_the_Airplane_e.p.', 'Sharbet_Snow_and_the_Airplane', 'Sherbet_Snow_and_the_Airplane', '島唄_Shima_Uta', 'K-Shop', 'Sherbets', 'Sherbet', 'Shemoth', 'F_Sharp', 'Shingyoku', 'Shion〜愛の祈り〜', 'Shin_megamitensei_tokyo_requiem', '島唄_Shima_uta', 'Shebang', 'Shining_Tears_X_Wind', 'Short_Message_Service', 'Shake_(DOUBLEの曲)', 'Massively_Multiplayer_Online_First-Person_Shooter', 'Shayne_Ward', 'Enter_Shikari', 'Windows_PowerShell', 'Shining_stars_bless☆', 'Space_Shower_TV', 'Make-up_Shadow_(上原多香子の曲)', 'Make-up_Shadow', 'Shared_Source_CLI', 'Shared_Source_Licensing_Program', 'White_Silent_Night/Sherry', 'Shall_We_ダンス?', '一騎当千_Shining_Dragon', 'BioShock', 'Radio_Shopping_Style', 'Game_Shark', 'She_Best_of_Best', '東方文花帖_～_Shoot_the_Bullet.', 'Microsoft_Shared_Source_Initiative', 'She_Said,_She_Said', 'Crimson-Shell', 'Shared_source', 'Shall_we_Sax?', 'Friend-Ship_Project', 'The_Ten-Show', 'Sharp-P', 'Your_Mother_Should_Know', 'Adobe_Shockwave_Player', 'Shizuka_Kudo_20th_Anniversary_the_Best', 'Electric_Sheep', 'RapidShare', 'She_Came_In_Through_the_Bathroom_Window', 'Sherry', 'あなたのすべてになりたい/Shinin\\\\', 'Unseasonable_Shore', 'Blue_Shift', 'DShK_(機関銃)', 'Shio忍', 'Sha_la_la', 'Showgate_radio', 'PowerShot', 'Shun_Hing_Square', 'Ortiz_vs._Shamrock_3', 'Sh704i', 'TOYOTA_Presents_片山右京のShall_We_Drive?～ドライブしようよ!～', 'Shin-D', 'Shiny', 'Showgate', 'Delicious!～The_Best_of_Hitomi_Shimatani～', 'Prism:_Guard_Shield', 'GENEON&Showgate_Presents_偽・うpのギョーカイ時事放談SUPER!', 'SheepShaver', 'Shine_We_Are!/Earthsong', 'Shine_We_Are!_/_Earthsong', 'Shooting_Star_(KOTOKOの曲)', 'Shaiya', 'てれとShop', 'Sherlock_(ソフトウェア)', 'Narrow_Gauge_and_Shortline_Gazette', 'Narrow_Gauge_&_Shortline_Gazette', 'Shining_(Crystal_Kayのアルバム)', 'Shion～愛の祈り～', 'Tall_Timber_Short_Lines', 'High_Level_Shading_Language', 'The_Tonight_Show_with_Jay_Leno', 'OSShD', '熱走!!_Exciting_Car_Showdown', 'She-Shell', 'Until_Strawberry_Sherbet', 'Bourne_Again_Shell', 'To_the_Shores_of_Iwo_Jima', 'Showgateラジオ', 'X_JAPAN_Virtual_Shock_001', 'J_Sharp', 'Ships_(織田哲郎のアルバム)', 'SharpDevelop', 'Windy_Shadow', 'Show_me_your_style', 'Shihomi', 'Shin', 'Heart_Sharing', 'Shade_(音楽家)', 'Shuffle_(MY_LITTLE_LOVERの曲)', 'The_Show_Must_Go_On_(アルバム)', 'Almquist_Shell', 'Shalom', 'Rain_or_Shine', 'Killer_Show', 'OnSheet', 'Give_me_a_Shake', 'Shape_〜in_the_shape_of_wing', 'Shadows_of_Dreams', 'Shuzilow._HA', '細川茂樹_SBSで行こう!〜Shigeki_Break_Saturday〜', '細川茂樹_SBSで行こう!～Shigeki_Break_Saturday～', 'Shizuka_Kudo_THE_LIVE_DVD_COMPLETE_BOX', 'Shandong_Airlines', 'Shenzhen_Airlines', 'Shining_Tears/光のシルエット', 'Shining_Tears', 'Self_Control_and_the_Scenes_from_“the_Shooting”', 'KuickShow', 'Shot_gun_Wedding', 'Shiro_SAGISU_Music_from_\\\\\"EVANGELION:_1.0_YOU_ARE_(NOT)_ALONE\\\\\"', 'Consumer_Electronics_Show', 'Short_Shorts_TV', 'Shine_more', 'Sheryl_Crow', 'Paint_Shop_Pro', 'WinShare', 'Shima-chang', 'Microsoft_SharePoint', 'Shame', 'Shiny_GATE', 'Blum-Blum-Shub', 'Blum_Blum_Shub', 'Blood_Red_Shoes', 'MY_PRECIOUS_-Shizuka_sings_songs_of_Miyuki-', 'Exec_Shield', 'Local_Shared_Object', 'Shed_Skin', 'Bass_Pro_Shops', 'Bass_Pro_Shop', 'Shorten', 'AppleShare', 'Shogo', 'Microsoft_Office_SharePoint_Server', 'シュベツォフ_ASh-73', 'Supreme_Show', 'Shibuya_O-West', 'Shibuya_O-East', 'Shen', 'Gtk_Sharp', 'The_Tonight_Show', 'The_Tonight_Show_With_Jay_Leno', 'The_Late_Show_with_David_Letterman', 'Shuffle', 'Shake_it', 'Future_Century_Shakespear', 'Future_Century_Shakespeare', 'Shinin\\\\', 'Shuffle_(奥井雅美の曲)', 'SharePoint', 'The_Late_Late_Show', 'Windows_SharePoint_Services', 'Microsoft_Office_SharePoint_Designer', 'シュベツォフ_ASh-82', 'シュベツォフ_ASh-62', 'ShKAS_(機関銃)', 'Kou_Shibasaki_Best_Special_Box', 'Everyday_Shooter', 'ShVAK_(機関砲)', 'Future_Shock', 'The_Early_Show', 'Jake_Shimabukuro', 'Yumi_Shizukusa_II', 'Moonlight_Shadow', 'ASh-82', 'The_Best_of_Shogo_Hamada_vol.1', 'The_Best_of_Shogo_Hamada_vol.2', 'Shock_Price_500', 'Love_Shuffle', 'Microsoft_Office_SharePoint_Portal_Server', '羞-Shu-', 'System_Shock', 'Shoichi', 'Chrome_Shelled', 'AppleShare_IP', 'Shakuyaku', 'Cramer-Shoup暗号', 'Night_of_the_Day_of_the_Dawn_of_the_Son_of_the_Bride_of_the_Return_of_the_Revenge_of_the_Terror_of_the_Attack_of_the_Evil,_Mutant,_Alien,_Flesh_Eating,_Hellbound,_Zombified_Living_Dead_Part_2:_In_Shocking_2-D', 'Shojo_friend', 'Shade_(曲)', 'Shinjang_Uyghur_aptonom_rayoni', 'Shock_On_The_Piano', 'My_SunShine', 'Shining_ray', 'Shining!/cry_baby', 'Sherwood', 'Shout_at_YUMING_ROCKS', 'The_Show_Must_Go_On', 'Share_The_World/ウィーアー!', 'Share_The_World/ウィーアー!_(東方神起の曲)', 'Shangri-La_(angelaの曲)', 'Shining☆Days', '影Shadow', '中山優馬_w/B.I.Shadow', 'Maia_Shibutani', 'DirectShow', 'Makoto_Shina', 'ShR', 'Shop240', 'I_Survived_a_Japanese_Game_Show', 'Real_Thing_Shake', 'Tokyo_Shore_Seabass_Tournament', '流れ星〜Shooting_Star〜', '流れ星_〜Shooting_Star〜', 'Shalim_Ortiz', 'Shoutcast', 'Shp', 'Shamo', '中山優馬_with_B.I.Shadow', 'East_West_Shuttle_(イースト・ウエスト・シャトル)', 'PowerShell', 'Shojo_Beat', 'Sha1sum', 'ImageShack', 'COLORS_〜Melody_and_Harmony〜/Shelter', 'Shoko', 'PPSh', 'Shinedown', 'Fly_High/Moonlight_Shadow', '急☆上☆Show!!', 'Shock_of_Love', 'シュパーギンPPSh-41短機関銃', 'This_Is_My_Shit', 'Shine_and_Eternity', 'AirShop', 'Air_Shop', 'Wayne_Shorter', 'Fender_Custom_Shop', 'PPSh-41_(機関拳銃)', 'Shout_Aloud!/Beat_Flash', 'Shadows_and_Light', 'Shinonome', 'Ravi_Shankar', 'Shyness_Overdrive', 'Wink_First_Live_Shining_Star', 'The_Shins', 'Billy_Sheehan', '輝煌_〜Shining_Energy〜', 'Microsoft_SharePoint_Online', 'Shelly_Trip_Realize', 'SharePoint_Server', 'Office_SharePoint_Server', 'What_A_Shiny_Day', 'しぇいけんBABY!_Shakespeare_Syndrome', 'Kou_Shibasaki_Live_Tour_2008_〜1st〜', 'Kou_Shibasaki_invitation_LIVE', 'Shy_Girls', 'キヤノン_PowerShot_S90', 'Shout', 'Strikeforce:_Lawler_vs._Shields', 'ニード・フォー・スピード_シフト_Need_for_Speed:_Shift', '劇団K-Show', 'BioShock2', 'Strikeforce:_Shamrock_vs._Diaz', 'Shade〜saw_the_light_&_shade〜', 'Shockwave_Player', 'WideShop', '\\\\\"Show_me_the_way\\\\\"', 'Tamura_Naomi_A.K.A._Sho-ta_Sho-ta_A.K.A._Tamura_Naomi', 'Short_Code_(プログラミング言語)', 'HAPPY_SWING_LIMITED_DVD_\\\\\"CUBE-BOX\\\\\"_GLAY_HIGHCOMMUNICATIONS_TOUR_2007-2008_at_Shibuya_C.C.Lemon_Hall', 'Kou_Shibasaki_Live_Tour_2010_〜ラブ☆パラ〜', 'Shinobu', 'Shade_(曖昧さ回避)', 'Shikata_ga_nai', 'Shooting_star_〜シューティングスター〜', 'しぇいけんBABY!_-Shakespeare_Syndrome-', 'Shake_It_Down', 'White_Shiny_Street', 'Shoes', 'Dry_Town_〜Theme_of_Zero〜/Shadow_behind', 'Shikasha', 'Do_Shock_Booze', 'GSh-30-1_(機関砲)', 'GSh-30-2_(機関砲)', 'GSh-23_(機関砲)', 'GSh-6-30_(機関砲)', 'Shy_Shy_Japanese', 'GSh-6-23_(機関砲)', 'HackShield', 'Shinsekai', 'Shintoku空想の森映画祭', '翼_〜Very_Best_of_Mikuni_Shimokawa〜', 'Shoko_(Jazz)', 'Golden_Shield_Project', 'ShaneDawsonTV', 'よしもと!Shall_Weショッピング', 'よしもと!Shall_We_ショッピング', 'SO2_(Shinichi_Osawaのアルバム)', 'ShoMMA:_Strikeforce_Challengers_9', 'ShoMMA:_Strikeforce_Challengers', 'William_Forsyth_Sharpe', '喜多村英梨のワンダリーRadio_Show', 'She_(バンド)', 'Shawty', 'Shadow_WEST', 'She_Loves_Lovin\\\\', 'Light_and_Shadows', 'Shopformer', 'Shiny+', 'Shout_It_Out', 'Sho-Comi', 'MediaShow', 'サガ3時空の覇者_Shadow_or_Light', 'The_Best_of_Shogo_Hamada_vol.3_The_Last_Weekend', 'サガ3_時空の覇者_Shadow_or_Light', 'Castlevania_-Loads_of_Shadow-', 'トモハナ☆ハラShowタイム!', 'Shout_in_the_rain', 'Castlevania_-Lords_of_Shadow-', 'Shibboleth', 'Sheサイド_ストーリー', 'The_Nutty_Radio_Show_鬼玉', 'Recettear:_An_Item_Shop\\\\', 'Mind_Shift', 'キヤノン_PowerShot_S95', 'LOVE_LOVE_SHOW/Shangri-La', 'Power_of_Shine/MOON_〜月光〜ATTACK', 'El_Shaddai_-_エルシャダイ_-', 'Shiro', 'Pearl_(Shiroの曲)', '99%_Radio_Show', 'コレデイイノ?!/恋の悪魔_-She\\\\', 'Sha-La-La', 'Sha-la-la', '熱思考_-She_became_cold-', 'LIVE_NATURE_＃3_SPECIAL_〜Rain_or_Shine〜', 'PAKU_PAKU_-The_Pandaman_Show-', 'Show_Me_Love_(Not_A_Dream)', 'ShRNA', 'All_the_Things_She_Said', 'ShoMMA:_Strikeforce_Challengers_10', 'P.S._-Pop_Shake-', 'P.S.～Pop_Shake～', 'Shinji_Harada_at_Budokan_\\\\', 'Me_and_My_Shadow', 'Shola_Ama', 'Shining_Love_(Single_Version)', 'Show_Your_Love', 'Shall_we_travel??', 'Shining☆Star', 'Shinji_Harada_MTV_PREMIUM_LIVE_in_duo', 'キヤノン・PowerShotシリーズ', 'GTK_Sharp', 'LIVE_D-ROCK_with_U_〜DAICHI_MIURA_LIVE_Chapter-2〜_@Shibuya_AX_5th_February', 'Shangri-La_(吉田拓郎のアルバム)', 'Shinji_Sudo', 'Heaven_Shall_Burn', 'Break_into_the_Light〜約束の帽子〜/The_Sharing_Song〜トリコのテーマ〜', 'Shakira', 'Shared_nothingアーキテクチャ', 'ShakespeareWilliam', 'William_Shakespeare', 'SharePoint_Online', 'Microsoft_SharePoint_Server', 'ShunKan', 'Ships_of_the_Royal_Navy', 'GNOME_Shell', 'Road_Show', 'PPSh-41短機関銃', 'Showska', 'ケータイShoin', 'SheevaPlug', 'Shine_on_me', 'ShoMMA:_Challengers_17', 'ニンテンドーeShop', 'Nintendo_eShop', 'Minotaur_Shock', 'Kierra_\\\\\"Kiki\\\\\"_Sheard', 'Kierra_Sheard', 'Shinobu_Ito', 'Share_The_Love', 'Music_Shower', 'Short_hair', 'TOKYO_IDOL_FESTIVAL_2010_@Shinagawa', 'Showdown', 'Red_Arrow,_Black_Shield', 'She_is', 'The_History_of_Shogo_Hamada_\\\\\"Since_1975\\\\\"', 'Shooting_Star', 'Shade_Empire', 'Shawn_Colvin', 'Shotwell', 'Shonai観光', 'Sherlock', 'ShinSight_Trio', 'Shady_Records', 'Shooting☆Smile', 'Weekend_Shuffle', 'Kis-My-Ftに逢えるde_Show_vol.3_at_国立代々木第一体育館_2011.2.12', 'Shake_it_up', 'Shake_It_Up', 'El_Shaddai_外伝_エクソダス', 'Day_by_Day/Shining_Blue_Rain', 'Shining_Blue_Rain', 'コープスパーティー_Book_of_Shadows', 'Sweets-Best_of_Ryoko_Shinohara-', 'Shinobi_3D', 'DOCUMENTARY_of_AKB48_Show_must_go_on_少女たちは傷つきながら、夢を見る', 'Shambara', '天才柳沢教授_孫・華子との生活_Special_Short_Short', 'Shingo_Suzuki', 'Abandon_All_Ships', 'Share_(CoCoのアルバム)', 'Shiny_Morning', 'Ark_Shell', 'Shche-2_(航空機)', 'Shonan_BMW_スタジアム平塚', 'Shn_(ISO_639)', 'Dal★Shabet', 'Shamanippon_-ラカチノトヒ-', 'ShiftJIS', 'スクール_Live_Show', 'Showtime_(アルバム)', 'Shout_In_The_Rainbow!!', 'Sharp_♯', 'Sh2-155', 'Kou_Shibasaki_Live_Tour_2011_“CIRCLE_&_CYCLE”', 'Shinancien', 'Sh2-101', 'Alexander_Shulgin', 'Shine_(家入レオの曲)', 'Shámbara', 'Shiny_steps!!', 'Pokemon_Radio_Show!_ロケット団ひみつ帝国', 'Pokémon_Radio_Show!_ロケット団ひみつ帝国', 'UFC_Fight_Night:_Shields_vs._Ellenberger', 'PPSh1941', 'Shiny_Day', 'Shiina_(アルバム)', 'Twin_Shadow', 'WANNA_BEEEE!!!/Shake_It_Up', '20101225_〜Last_Night_Show〜', '20101225_～Last_Night_Show～', 'Shiras.', 'Shibata', 'Show_Time', 'Shellshock_2:_Blood_Trails', 'Shining_All_Star_CD', 'Two_Shot', 'Shadow_DOM', 'English_As_She_Is_Spoke', 'Shichida_Method', 'Shout/hummingbird', 'D-ROCK_with_U_〜DAICHI_MIURA_LIVE_Chapter-2〜_@Shibuya_AX_5th_February', 'Shake_Shack', 'Mikuni_Shimokawa_Singles_&_Movies', 'Shiro_SAGISU_Music_from_\\\\\"EVANGELION:3.0\\\\\"_YOU_CAN_(NOT)_REDO.', 'Shing', 'Shintaro_Mizuno', 'Shell_EasyPay', '植村花菜の「あなたの夢を花菜えまShow」', 'Sharks', 'RocketShoot', 'シュベツォフ_ASh-21', 'ASh-21', 'BioShock_Infinite', 'シュベツォフ_ASh-2', 'Heather_LOVE_Short_Movies', 'Shino', 'あしあとリズム_〜Haruka_Shimotsuki_works_best〜', 'Sony_Music_Shop', 'Shela', '植村花菜のあなたの夢を花菜えまShow', 'Shining_Star-☆-LOVE_Letter', 'Shinji_Harada_35th_Anniverary_Special_Live!!_\\\\\"The_Load_to_the_Light_1st_Stage_Final\\\\\"', 'あなたの夢を花菜えまShow', 'Show_TIME', 'Shiny_Blue', 'Shop_Boyz', 'ShiftyLook', 'Our_Shining_Idol_今君に会いたい', 'Shackles_of_Night', 'Show_Champion', '流星☆キセキ_-Shooting_probe-', 'マイク_Family_Show', '安全地帯XIV〜The_Saltmoderate_Show〜', 'Shout_to_the_Walls!', 'Shutterstock', 'Shana', 'Shanna', 'Shadow_Warrior', 'Shinyaku_Seiken_Densetsu', 'Shift-or_アルゴリズム', 'DJ_Sharpnel', 'Shanti_Snyder', 'サンデー19Show', 'JET55〜Eagle,Shark,Panther〜', 'SlideShare', 'UFC_Fight_Night:_Shogun_vs._Sonnen', 'Sherlock_(SHINeeの曲)', 'Shooting_star_(Alice_Nineの曲)', 'ビジュアルアーツ大感謝祭_「Shift:NEXT_→Generation!」_-きみとかなでるあしたへのうた-', 'Puppet_Show', 'Sh2-274', 'Shift-andアルゴリズム', 'Shining!!', 'ShareWis', 'Shopkick', 'ShAbo', 'Shift-and_アルゴリズム', 'Like_a_Shooting_Star', 'She・See・Sea', 'Shooting_Star_〜夢へと届け〜', 'Overblow_Tour_2012_Live_in_Shibuya_Club_Quattro', 'UFC_Fight_Night:_Maia_vs._Shields', 'Shamanippon_-ロイノチノイ-', 'Show_fight!', 'Shout_It_Out_(BoAの曲)', 'Shizuku', 'DShK', 'Shi-shonen', 'Shh...', 'ShowTime', 'Fire_Emblem:_Shadow_Dragon_and_the_Blade_of_Light', '大図書館の羊飼い_-Dreaming_Sheep-', 'ShopDingDong', 'Shimada_Hajime', 'Hajime_Shimada', 'Shanghai_Tower', 'Akane_Shinsha', 'UFC_Fight_Night:_Shogun_vs._Henderson_2', 'MilkShake', 'Kis-My-Ftに010_逢えるde_Show', 'Kis-My-Ftに逢える_de_Show', 'Kyunghyang_Shinmun', 'Shiing-Shen_Chern', '冠動脈のShaher分類', 'Shaher分類', 'U字工事のShake-Hands!', 'Blue_Suede_Shooting_Star', '越乃Shu*Kura', 'Shadows_Fall', 'ゆざわShu*Kura', 'Ilya_Piatetski-Shapiro', 'Shooting_Star_Girls', 'Dangerous_-_The_Short_Films', 'Shigefumi_Mori', 'ShibuyaDeepA', 'Shout_(andropの曲)', 'ShoMMA:_Strikeforce_Challengers_6', 'ShoMMA:_Strikeforce_Challengers_7', 'ShoMMA:_Strikeforce_Challengers_8', 'Shine_We_Are!_(曲)', '＃10_story_〜Best_of_Yumi_Shizukusa〜', 'The_Oprah_Winfrey_Show', 'Late_Show_with_David_Letterman', 'Shortest_Path_Bridging', 'Asahi_Shimbun', 'Shangri-La_Shower', 'Shu', 'Thompson_Shell', 'YUMI_MATSUTOYA_CONCERT_TOUR_2011_Road_Show', 'Liu_Shishi', 'Shishi_Liu', 'Cheng_Tai_Shen', 'Tai_Shen_Cheng', 'Tai_Shen_Chen', 'Chen_Tai_Shen', 'UFC_Fight_Night:_Shogun_vs._St._Preux', 'We_Shall_Overcome', 'Win_Shares', 'A_Limited_Edition_of_Yumi_Shizukusa', 'Glamorous_Show〜Japanese_Legendary_Rock_Covers', 'Shu-Shu・Pooh', 'Shai_Hulud', 'Star_Shine_Story', 'High_Level_Shader_Language', 'Sheila_Kelley', '機装ルーガII_The_Ends_of_Shangrila', 'Should_I_Remove_It?', 'Shiggy_Jr.のオールナイトニッポン0(ZERO)', 'Shine_On', 'Shokuhin_Matsuri', 'Showroom', 'She_(テレビドラマ)', 'She', 'ShadyXV', 'Visual_C_Sharp', 'ShibuyaDeep_A', 'Shoichi_(企業)', 'Shotest', 'GNU_Shogi', 'I_Should_Be_So_Lucky', 'Do_You_Ever_Shine?', 'Sparky_Shadow']\n"
     ]
    }
   ],
   "source": [
    "pages = []\n",
    "with open('pages.txt','r') as p:\n",
    "    dat = p.read().splitlines()\n",
    "    for i in dat:\n",
    "        c = i.split('\\t')\n",
    "        pages.append(c)\n",
    "\n",
    "ID_pages = {}\n",
    "for i in pages:\n",
    "    ID_pages[i[1]] = i[0]\n",
    "print('Finished')\n",
    "\n",
    "test2 = []\n",
    "for i in ID_pages.keys():\n",
    "    if 'Sh' in i:\n",
    "        test2.append(i)\n",
    "print(test2)"
   ]
  },
  {
   "cell_type": "code",
   "execution_count": 20,
   "metadata": {},
   "outputs": [],
   "source": [
    "pages_ID = {v: k for k, v in ID_pages.items()}"
   ]
  },
  {
   "cell_type": "markdown",
   "metadata": {},
   "source": [
    "- check"
   ]
  },
  {
   "cell_type": "code",
   "execution_count": 13,
   "metadata": {},
   "outputs": [
    {
     "name": "stdout",
     "output_type": "stream",
     "text": [
      "1093021\n",
      "22557\n"
     ]
    }
   ],
   "source": [
    "print(ID_pages['グーグル'])\n",
    "print(ID_pages['渋谷'])"
   ]
  },
  {
   "cell_type": "markdown",
   "metadata": {},
   "source": [
    "### Find Paths from Google to Shibuya\n",
    "\n",
    "#### Need to make object nodes? - Slow?"
   ]
  },
  {
   "cell_type": "code",
   "execution_count": 14,
   "metadata": {},
   "outputs": [],
   "source": [
    "def find_shortest_distance2(root,target):\n",
    "    dis = {}\n",
    "    for key in ID_pages.keys():\n",
    "        dis[key] = float('inf')\n",
    "    visited = set()\n",
    "    r_key = ID_pages[root]\n",
    "    dis[r_key] = 0\n",
    "    que = deque()\n",
    "    que.append(r_key)\n",
    "    while que:\n",
    "        current = que.popleft() # previous level \n",
    "#         print(current, dis[current])\n",
    "        for i in adj_list_links[current]: # current level\n",
    "            if i not in visited:\n",
    "                visited.add(i)\n",
    "                dis[i] = dis[current] + 1\n",
    "                que.append(i)\n",
    "    id1 = ID_pages[target]\n",
    "    shortest_dis = dis[id1]\n",
    "    if shortest_dis == float('inf'):\n",
    "        return 'No way to access'\n",
    "    else:\n",
    "        return shortest_dis"
   ]
  },
  {
   "cell_type": "code",
   "execution_count": 15,
   "metadata": {},
   "outputs": [
    {
     "data": {
      "text/plain": [
       "1"
      ]
     },
     "execution_count": 15,
     "metadata": {},
     "output_type": "execute_result"
    }
   ],
   "source": [
    "find_shortest_distance2('渋谷','GALS!')"
   ]
  },
  {
   "cell_type": "code",
   "execution_count": 16,
   "metadata": {},
   "outputs": [],
   "source": [
    "def find_keys2(string):\n",
    "    names = [name for key, name in pages if key == string]\n",
    "    return names[0]"
   ]
  },
  {
   "cell_type": "code",
   "execution_count": 17,
   "metadata": {},
   "outputs": [
    {
     "data": {
      "text/plain": [
       "'GALS!'"
      ]
     },
     "execution_count": 17,
     "metadata": {},
     "output_type": "execute_result"
    }
   ],
   "source": [
    "find_keys2('110117')"
   ]
  },
  {
   "cell_type": "code",
   "execution_count": 18,
   "metadata": {},
   "outputs": [
    {
     "data": {
      "text/plain": [
       "'パルナス製菓'"
      ]
     },
     "execution_count": 18,
     "metadata": {},
     "output_type": "execute_result"
    }
   ],
   "source": [
    "find_keys2('100003')"
   ]
  },
  {
   "cell_type": "markdown",
   "metadata": {},
   "source": [
    "# CAN NOT get to Shibuya from Google!? \n",
    "# Adjacency list is [ ]?"
   ]
  },
  {
   "cell_type": "markdown",
   "metadata": {},
   "source": [
    "# find isolated nodes"
   ]
  },
  {
   "cell_type": "raw",
   "metadata": {},
   "source": [
    "i_list = sorted(ID_pages.values())\n",
    "check_set = set(i_list)\n",
    "\n",
    "def find_isolated_nodes(r_key):\n",
    "    dis = {}\n",
    "    for key in ID_pages.keys():\n",
    "        dis[key] = float('inf')\n",
    "    visited = set()\n",
    "#     r_key = ID_pages[root]\n",
    "#     dis[r_key] = 0\n",
    "    que = deque()\n",
    "    que.append(r_key)\n",
    "    while que:\n",
    "        current = que.popleft() # previous level \n",
    "#         print(current, dis[current])\n",
    "        if current in adj_list_links:\n",
    "            for i in adj_list_links[current]: # current level\n",
    "                if i not in visited:\n",
    "                    visited.add(i)\n",
    "                    check_set.remove(i)\n",
    "#                     dis[i] = dis[current] + 1\n",
    "                    que.append(i)\n",
    "#     for i in dis.keys(): # i : 'afafd'\n",
    "#         if i in check_set:\n",
    "#             check_set.remove(i)\n",
    "#         else:\n",
    "#             continue\n",
    "\n",
    "print(len(check_set))\n",
    "for i in i_list:\n",
    "    if i in check_set:\n",
    "        find_isolated_nodes(i)\n",
    "    \n",
    "print('isolated nodes are:', len(check_set))"
   ]
  },
  {
   "cell_type": "code",
   "execution_count": 45,
   "metadata": {},
   "outputs": [
    {
     "name": "stdout",
     "output_type": "stream",
     "text": [
      "total number of nodes:  1482292\n",
      "Google in check_set: True\n",
      "number of isolated nodes - no incoming edges: 676048\n",
      "Google in check_set: False\n",
      "number of isolated nodes - no incoming nor outcoming edges: 643450\n",
      "Google in check_set: False\n"
     ]
    }
   ],
   "source": [
    "i_list = sorted(ID_pages.values())\n",
    "check_set = set(i_list)\n",
    "\n",
    "def find_isolated_nodes(r_key, visited):\n",
    "    que = deque()\n",
    "    que.append(r_key)\n",
    "    while que:\n",
    "        current = que.popleft() # previous level \n",
    "        if current in adj_list_links:\n",
    "            for i in adj_list_links[current]: # current level\n",
    "                if i not in visited:\n",
    "                    visited.add(i)\n",
    "                    check_set.remove(i)\n",
    "                    que.append(i)\n",
    "\n",
    "def find_all_isolated_nodes(i_list, check_set):\n",
    "    visited = set()\n",
    "    for i in i_list:\n",
    "        if i in check_set:\n",
    "            find_isolated_nodes(i, visited)\n",
    "\n",
    "google = 'Google'\n",
    "print('total number of nodes: ', len(check_set))\n",
    "print_in_check_set(google, check_set)\n",
    "\n",
    "find_all_isolated_nodes(i_list, check_set)\n",
    "print('number of isolated nodes - no incoming edges:', len(check_set))\n",
    "print_in_check_set(google, check_set)\n",
    "\n",
    "for i in list(check_set):\n",
    "    # TODO: adj_list_links should contain all nodes\n",
    "    if i in adj_list_links and adj_list_links[i]:\n",
    "        check_set.remove(i)\n",
    "print('number of isolated nodes - no incoming nor outcoming edges:', len(check_set))\n",
    "print_in_check_set(google, check_set)"
   ]
  },
  {
   "cell_type": "code",
   "execution_count": 28,
   "metadata": {},
   "outputs": [],
   "source": [
    "def print_in_check_set(name, check_set):\n",
    "    print(\"{} in check_set: {}\".format(name, ID_pages[name] in check_set))"
   ]
  },
  {
   "cell_type": "code",
   "execution_count": 36,
   "metadata": {},
   "outputs": [
    {
     "name": "stdout",
     "output_type": "stream",
     "text": [
      "Pages point to Google: マイクロソフト\n",
      "Pages point to Google: 中華人民共和国\n",
      "Pages point to Google: Portable_Document_Format\n",
      "Pages point to Google: 携帯電話の絵文字\n",
      "Pages point to Google: コンピュータ\n",
      "Pages point to Google: ウェブブラウザ\n",
      "Pages point to Google: 多国籍企業\n",
      "Pages point to Google: 角川書店\n",
      "Pages point to Google: 帝国\n",
      "Pages point to Google: ISO_4217\n",
      "Pages point to Google: カリフォルニア州\n",
      "Pages point to Google: 縄跳び\n",
      "Pages point to Google: 社会的ネットワーク\n",
      "Pages point to Google: 人工知能\n",
      "Pages point to Google: 分散コンピューティング\n",
      "Pages point to Google: 検索エンジン\n",
      "Pages point to Google: 情報検索\n",
      "Pages point to Google: JavaScript\n",
      "Pages point to Google: Python\n",
      "Pages point to Google: アラン・チューリング\n",
      "Pages point to Google: 全文検索\n",
      "Pages point to Google: GNOME\n",
      "Pages point to Google: GNU_General_Public_License\n",
      "Pages point to Google: G\n",
      "Pages point to Google: オープンソース\n",
      "Pages point to Google: アドビシステムズ\n",
      "Pages point to Google: パーソナルコンピュータ\n",
      "Pages point to Google: RIP_SLYME\n",
      "Pages point to Google: 鉄腕アトム\n",
      "Pages point to Google: Macintosh\n",
      "Pages point to Google: Microsoft_Windows\n",
      "Pages point to Google: Transport_Layer_Security\n",
      "Pages point to Google: アップル_インコーポレイテッド\n",
      "Pages point to Google: デザイナーベビー\n",
      "Pages point to Google: 赤塚不二夫\n",
      "Pages point to Google: ゲーム機\n",
      "Pages point to Google: パックマン\n",
      "Pages point to Google: コンピュータゲームの歴史\n",
      "Pages point to Google: ソーシャル・ネットワーキング・サービス\n",
      "Pages point to Google: 任天堂\n",
      "Pages point to Google: 携帯電話\n",
      "Pages point to Google: エレクトロニック・アーツ\n",
      "Pages point to Google: 楳図かずお\n",
      "Pages point to Google: ゴクウ\n",
      "Pages point to Google: ドラゴンクエストシリーズ\n",
      "Pages point to Google: コミックマーケット\n",
      "Pages point to Google: AltaVista\n",
      "Pages point to Google: Ask.com\n",
      "Pages point to Google: Goo\n",
      "Pages point to Google: KDDI\n",
      "Pages point to Google: MSN\n",
      "Pages point to Google: OCN\n",
      "Pages point to Google: Yahoo!\n",
      "Pages point to Google: インフォシーク\n",
      "Pages point to Google: クローラ\n",
      "Pages point to Google: ソフトバンク\n",
      "Pages point to Google: ページランク\n",
      "Pages point to Google: ポータルサイト\n",
      "Pages point to Google: メタ検索エンジン\n",
      "Pages point to Google: ミシガン大学\n",
      "Pages point to Google: 高柳健次郎\n",
      "Pages point to Google: エリア51\n",
      "Pages point to Google: スタンフォード大学\n",
      "Pages point to Google: オレゴン州\n",
      "Pages point to Google: 福田康夫\n",
      "Pages point to Google: 電子書籍\n",
      "Pages point to Google: 東京メトロポリタンテレビジョン\n",
      "Pages point to Google: NTTドコモ\n",
      "Pages point to Google: 沖縄セルラー電話\n",
      "Pages point to Google: ローソン\n",
      "Pages point to Google: スターバックス\n",
      "Pages point to Google: DDIセルラーグループ\n",
      "Pages point to Google: まぐまぐ\n",
      "Pages point to Google: トヨタ・プリウス\n",
      "Pages point to Google: スタジオジブリ\n",
      "Pages point to Google: Hypertext_Transfer_Protocol\n",
      "Pages point to Google: Internet_Explorer\n",
      "Pages point to Google: KHTML\n",
      "Pages point to Google: Konqueror\n",
      "Pages point to Google: Mozilla_Firefox\n",
      "Pages point to Google: Mozilla_Foundation\n",
      "Pages point to Google: インクリメンタルサーチ\n",
      "Pages point to Google: デスクトップパソコン\n",
      "Pages point to Google: フルブラウザ\n",
      "Pages point to Google: ブックマークレット\n",
      "Pages point to Google: ブラウザクラッシャー\n",
      "Pages point to Google: Linuxディストリビューション\n",
      "Pages point to Google: Mozilla_Thunderbird\n",
      "Pages point to Google: アプリケーションプログラミングインタフェース\n",
      "Pages point to Google: カリフォルニア大学バークレー校\n",
      "Pages point to Google: ディジー・ガレスピー\n",
      "Pages point to Google: 宇宙速度\n",
      "Pages point to Google: 気球\n",
      "Pages point to Google: AOL\n",
      "Pages point to Google: シェアウェア\n",
      "Pages point to Google: リバースエンジニアリング\n",
      "Pages point to Google: BREW\n",
      "Pages point to Google: Amazon.com\n",
      "Pages point to Google: NVIDIA\n",
      "Pages point to Google: クアルコム\n",
      "Pages point to Google: ビデオ・オン・デマンド\n",
      "Pages point to Google: ヘッドマウントディスプレイ\n",
      "Pages point to Google: 拡張現実\n",
      "Pages point to Google: 札幌ドーム\n",
      "Pages point to Google: ユリウス通日\n",
      "Pages point to Google: キットカット\n",
      "Pages point to Google: ヤマト運輸\n",
      "Pages point to Google: ディジタル・イクイップメント・コーポレーション\n",
      "Pages point to Google: 表計算ソフト\n",
      "Pages point to Google: コーデック\n",
      "Pages point to Google: インテル\n",
      "Pages point to Google: ケン・トンプソン\n",
      "Pages point to Google: デニス・リッチー\n",
      "Pages point to Google: チューリング賞\n",
      "Pages point to Google: プリンストン大学\n",
      "Pages point to Google: OpenOffice.org\n",
      "Pages point to Google: カーナビゲーション\n",
      "Pages point to Google: アル・ゴア\n",
      "Pages point to Google: 東浩紀\n",
      "Pages point to Google: Wine\n",
      "Pages point to Google: ゲイ・パレード\n",
      "Pages point to Google: デイヴィッド・ブリン\n",
      "Pages point to Google: フラーレン\n",
      "Pages point to Google: ポパイ\n",
      "Pages point to Google: モトローラ\n",
      "Pages point to Google: AT&T\n",
      "Pages point to Google: ビル・ジョイ\n",
      "Pages point to Google: 平林久和\n",
      "Pages point to Google: IPhoto\n",
      "Pages point to Google: RAW画像\n",
      "Pages point to Google: H.264\n",
      "Pages point to Google: 画面解像度\n",
      "Pages point to Google: フェラーリ\n",
      "Pages point to Google: Internet_Message_Access_Protocol\n",
      "Pages point to Google: Wintel\n",
      "Pages point to Google: コンピュータ用語一覧\n",
      "Pages point to Google: レノボ\n",
      "Pages point to Google: 自作パソコン\n",
      "Pages point to Google: CDMA_1X_WIN\n",
      "Pages point to Google: HGST\n",
      "Pages point to Google: ジュピターテレコム\n",
      "Pages point to Google: ツーカー\n",
      "Pages point to Google: ニフティ\n",
      "Pages point to Google: Windows_Mobile\n",
      "Pages point to Google: 葛飾北斎\n",
      "Pages point to Google: GC\n",
      "Pages point to Google: 中国人民解放軍\n",
      "Pages point to Google: 六四天安門事件\n",
      "Pages point to Google: 窓の杜\n",
      "Pages point to Google: シュミット\n",
      "Pages point to Google: Vorbis\n",
      "Pages point to Google: アクオス\n",
      "Pages point to Google: テキサス・インスツルメンツ\n",
      "Pages point to Google: リチャード・トレビシック\n",
      "Pages point to Google: レオン・フーコー\n",
      "Pages point to Google: CDMA_1X\n",
      "Pages point to Google: 日本移動通信\n",
      "Pages point to Google: PR\n",
      "Pages point to Google: エレキコミック\n",
      "Pages point to Google: シスコシステムズ\n",
      "Pages point to Google: ミーム\n",
      "Pages point to Google: 桂三度\n",
      "Pages point to Google: コストコ\n",
      "Pages point to Google: シマンテック\n",
      "Pages point to Google: ディレクTV\n",
      "Pages point to Google: So-net\n",
      "Pages point to Google: ミニ番組\n",
      "Pages point to Google: EZweb\n",
      "Pages point to Google: ラジオ体操\n",
      "Pages point to Google: 1_E9\n",
      "Pages point to Google: 豆腐\n",
      "Pages point to Google: シリコンバレー\n",
      "Pages point to Google: セルマ・ラーゲルレーヴ\n",
      "Pages point to Google: 京都大学の人物一覧\n",
      "Pages point to Google: MeCab\n",
      "Pages point to Google: 分散型\n",
      "Pages point to Google: クラリオン\n",
      "Pages point to Google: レス・ポール\n",
      "Pages point to Google: 霞が関ビルディング\n",
      "Pages point to Google: Orkut\n",
      "Pages point to Google: 菅野よう子\n",
      "Pages point to Google: ファーミング\n",
      "Pages point to Google: 日本レジストリサービス\n",
      "Pages point to Google: GMOインターネット\n",
      "Pages point to Google: ヴァネヴァー・ブッシュ\n",
      "Pages point to Google: ブラウン大学\n",
      "Pages point to Google: 司書\n",
      "Pages point to Google: ドロシー・ホジキン\n",
      "Pages point to Google: 北アメリカ航空宇宙防衛司令部\n",
      "Pages point to Google: Matroska\n",
      "Pages point to Google: Theora\n",
      "Pages point to Google: 嫌韓\n",
      "Pages point to Google: 日テレジータス\n",
      "Pages point to Google: 台北101\n",
      "Pages point to Google: 第二電電\n",
      "Pages point to Google: 日本海呼称問題\n",
      "Pages point to Google: 翻訳メモリ\n",
      "Pages point to Google: Engrish\n",
      "Pages point to Google: Apache_Commons\n",
      "Pages point to Google: アーシュラ・K・ル＝グウィン\n",
      "Pages point to Google: マリア・モンテッソーリ\n",
      "Pages point to Google: Au_design_project\n",
      "Pages point to Google: EZ_FeliCa\n",
      "Pages point to Google: EZチャンネル\n",
      "Pages point to Google: ダブル定額\n",
      "Pages point to Google: ツーカーホン関西\n",
      "Pages point to Google: 生命、宇宙、そして万物についての究極の疑問の答え\n",
      "Pages point to Google: マスコットキャラクター一覧\n",
      "Pages point to Google: 燕三条駅\n",
      "Pages point to Google: メリーランド大学カレッジパーク校\n",
      "Pages point to Google: 盧武鉉\n",
      "Pages point to Google: メディアミックス・ジャパン\n",
      "Pages point to Google: B-CAS\n",
      "Pages point to Google: DMOZ\n",
      "Pages point to Google: 地球儀\n",
      "Pages point to Google: Linuxクラスター\n",
      "Pages point to Google: サイエントロジー\n",
      "Pages point to Google: アクセス禁止\n",
      "Pages point to Google: Eclipse_(統合開発環境)\n",
      "Pages point to Google: 竹山隆範\n",
      "Pages point to Google: 安否情報\n",
      "Pages point to Google: セルゲイ・ブリン\n",
      "Pages point to Google: ラリー・ペイジ\n",
      "Pages point to Google: GE\n",
      "Pages point to Google: デビッド・ベッカム\n",
      "Pages point to Google: ゴッゴル\n",
      "Pages point to Google: ミラーサイト\n",
      "Pages point to Google: クリンゴン人\n",
      "Pages point to Google: SAS_Institute\n",
      "Pages point to Google: インターネット用語一覧\n",
      "Pages point to Google: GA\n",
      "Pages point to Google: 兵庫県道199号須磨停車場線\n",
      "Pages point to Google: 我妻三輪子\n",
      "Pages point to Google: クリンゴン語\n",
      "Pages point to Google: NL\n",
      "Pages point to Google: 六本木ヒルズ森タワー\n",
      "Pages point to Google: 水口哲也\n",
      "Pages point to Google: 西村修平\n",
      "Pages point to Google: TOSS\n",
      "Pages point to Google: グーゴル\n",
      "Pages point to Google: グーゴルプレックス\n",
      "Pages point to Google: 青瓦台\n",
      "Pages point to Google: 富士山下駅\n",
      "Pages point to Google: 伏字\n",
      "Pages point to Google: はてな_(企業)\n",
      "Pages point to Google: クイーン_(バンド)\n",
      "Pages point to Google: スパム_(メール)\n",
      "Pages point to Google: 厚真インターチェンジ\n",
      "Pages point to Google: ぐぐる\n",
      "Pages point to Google: ググる\n",
      "Pages point to Google: 力丸乃りこ\n",
      "Pages point to Google: インフォテリア\n",
      "Pages point to Google: 自動要約\n",
      "Pages point to Google: ジョナス・ソーク\n",
      "Pages point to Google: リダイレクト_(HTTP)\n",
      "Pages point to Google: 大分県立佐伯鶴城高等学校\n",
      "Pages point to Google: バズ\n",
      "Pages point to Google: EZアプリ_(Java)\n",
      "Pages point to Google: 多言語ディレクトリ\n",
      "Pages point to Google: ガーフィールド_(漫画)\n",
      "Pages point to Google: 一トウ糊塗BBS\n",
      "Pages point to Google: デースケドガー\n",
      "Pages point to Google: NaverBot\n",
      "Pages point to Google: カナリア_(お笑い)\n",
      "Pages point to Google: タブレット_(コンピュータ)\n",
      "Pages point to Google: Googkle\n"
     ]
    }
   ],
   "source": [
    "name = 'Google'\n",
    "for k, v in adj_list_links.items():\n",
    "    for j in v:\n",
    "        if j == ID_pages[name]:\n",
    "            print('Pages point to {}:'.format(name), pages_ID[k])"
   ]
  }
 ],
 "metadata": {
  "kernelspec": {
   "display_name": "Python 3",
   "language": "python",
   "name": "python3"
  },
  "language_info": {
   "codemirror_mode": {
    "name": "ipython",
    "version": 3
   },
   "file_extension": ".py",
   "mimetype": "text/x-python",
   "name": "python",
   "nbconvert_exporter": "python",
   "pygments_lexer": "ipython3",
   "version": "3.7.3"
  }
 },
 "nbformat": 4,
 "nbformat_minor": 2
}
