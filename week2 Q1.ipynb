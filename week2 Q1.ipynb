{
 "cells": [
  {
   "cell_type": "code",
   "execution_count": 5,
   "metadata": {},
   "outputs": [
    {
     "name": "stdout",
     "output_type": "stream",
     "text": [
      "size of the matrix:3\n",
      "time: 0.000300 sec\n",
      "sum: 450.000000\n"
     ]
    }
   ],
   "source": [
    "import numpy, sys, time\n",
    "\n",
    "# if (len(sys.argv) != 2):\n",
    "#     print(\"usage: python %s N\" % sys.argv[0])\n",
    "#     quit()\n",
    "\n",
    "# n = int(sys.argv[1])\n",
    "\n",
    "n = int(input(\"size of the matrix:\"))\n",
    "a = numpy.zeros((n, n)) # Matrix A\n",
    "b = numpy.zeros((n, n)) # Matrix B\n",
    "c = numpy.zeros((n, n)) # Matrix C\n",
    "\n",
    "# Initialize the matrices to some values.\n",
    "for i in range(n):\n",
    "    for j in range(n):\n",
    "        a[i, j] = i * n + j\n",
    "        b[i, j] = j * n + i\n",
    "        c[i, j] = 0\n",
    "\n",
    "begin = time.time()\n",
    "\n",
    "\n",
    "# iterate through rows of X\n",
    "for i in range(len(a)):\n",
    "   # iterate through columns of Y\n",
    "   for j in range(len(b[0])):\n",
    "       # iterate through rows of Y\n",
    "       for k in range(len(b)):\n",
    "            c[i][j] += a[i][k] * b[k][j]\n",
    "            \n",
    "end = time.time()\n",
    "print(\"time: %.6f sec\" % (end - begin))\n",
    "\n",
    "\n",
    "\n",
    "# Print C for debugging. Comment out the print before measuring the execution time.\n",
    "# total = 0\n",
    "# for i in range(n):\n",
    "#     for j in range(n):\n",
    "#         # print c[i, j]\n",
    "#         total += c[i, j]\n",
    "# # Print out the sum of all values in C.\n",
    "# # This should be 450 for N=3, 3680 for N=4, and 18250 for N=5.\n",
    "# print(\"sum: %.6f\" % total)"
   ]
  },
  {
   "cell_type": "code",
   "execution_count": 9,
   "metadata": {},
   "outputs": [],
   "source": [
    "import numpy, sys, time\n",
    "import matplotlib.pyplot as plt\n",
    "\n",
    "# if (len(sys.argv) != 2):\n",
    "#     print(\"usage: python %s N\" % sys.argv[0])\n",
    "#     quit()\n",
    "\n",
    "# n = int(sys.argv[1])\n",
    "times = []\n",
    "for n in range(3,100):\n",
    "    a = numpy.zeros((n, n)) # Matrix A\n",
    "    b = numpy.zeros((n, n)) # Matrix B\n",
    "    c = numpy.zeros((n, n)) # Matrix C\n",
    "\n",
    "    # Initialize the matrices to some values.\n",
    "    for i in range(n):\n",
    "        for j in range(n):\n",
    "            a[i, j] = i * n + j\n",
    "            b[i, j] = j * n + i\n",
    "            c[i, j] = 0\n",
    "\n",
    "    begin = time.time()\n",
    "\n",
    "\n",
    "    # iterate through rows of X\n",
    "    for i in range(len(a)):\n",
    "       # iterate through columns of Y\n",
    "       for j in range(len(b[0])):\n",
    "           # iterate through rows of Y\n",
    "           for k in range(len(b)):\n",
    "                c[i][j] += a[i][k] * b[k][j]\n",
    "\n",
    "    end = time.time()\n",
    "    t = end - begin\n",
    "    times.append(t)\n",
    "#     print(\"time: %.6f sec\" % (end - begin))\n",
    "\n",
    "\n",
    "\n",
    "# Print C for debugging. Comment out the print before measuring the execution time.\n",
    "# total = 0\n",
    "# for i in range(n):\n",
    "#     for j in range(n):\n",
    "#         # print c[i, j]\n",
    "#         total += c[i, j]\n",
    "# # Print out the sum of all values in C.\n",
    "# # This should be 450 for N=3, 3680 for N=4, and 18250 for N=5.\n",
    "# print(\"sum: %.6f\" % total)"
   ]
  },
  {
   "cell_type": "code",
   "execution_count": 11,
   "metadata": {
    "scrolled": false
   },
   "outputs": [
    {
     "data": {
      "text/plain": [
       "Text(0, 0.5, 'Time')"
      ]
     },
     "execution_count": 11,
     "metadata": {},
     "output_type": "execute_result"
    },
    {
     "data": {
      "image/png": "[encoded data removed]",
      "text/plain": [
       "<Figure size 432x288 with 1 Axes>"
      ]
     },
     "metadata": {
      "needs_background": "light"
     },
     "output_type": "display_data"
    }
   ],
   "source": [
    "%matplotlib inline\n",
    "plt.plot(range(3,100), times, color=\"green\")\n",
    "plt.title(\"t\")\n",
    "plt.xlabel(\"N\")\n",
    "plt.ylabel(\"Time\")"
   ]
  },
  {
   "cell_type": "markdown",
   "metadata": {},
   "source": [
    "## Q2. Reasons a tree structure is more preferred than a hash table under large-scaled database systems. \n",
    "1. Keys can be sorted by the order if we just do inorder traversal of a Binary Search Tree.  While it is hard to perform the same operation in the hash table. \n",
    "\n",
    "2. O(1) for hash table operations only work well under a good load factor. Otherwise storing millions of entries into limited buckets may lead to numerous compares or lookup, which can be worse than O(log(N)). Whereas operations always work in O(log(N)) time in Self-Balancing Binary Search Trees. \n",
    "\n",
    "3. Sorting is not a natural operation with a Hash Table. Performing finding closest lower and greater elements, order statistics, range queries are easy by Binary Search Trees. \n",
    "\n",
    "4. Disk-based storage is inefficient in moving elements forward and backward. A data structure can insert and delete elements is not preferred when storing large-scaled databases in disks. "
   ]
  }
 ],
 "metadata": {
  "kernelspec": {
   "display_name": "Python 3",
   "language": "python",
   "name": "python3"
  },
  "language_info": {
   "codemirror_mode": {
    "name": "ipython",
    "version": 3
   },
   "file_extension": ".py",
   "mimetype": "text/x-python",
   "name": "python",
   "nbconvert_exporter": "python",
   "pygments_lexer": "ipython3",
   "version": "3.7.3"
  }
 },
 "nbformat": 4,
 "nbformat_minor": 2
}
